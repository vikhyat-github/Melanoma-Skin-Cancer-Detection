{
  "cells": [
    {
      "cell_type": "markdown",
      "metadata": {
        "id": "rXz-9gMb_MIJ"
      },
      "source": [
        "#ML Project\n",
        "\n"
      ]
    },
    {
      "cell_type": "code",
      "execution_count": null,
      "metadata": {
        "colab": {
          "base_uri": "https://localhost:8080/"
        },
        "id": "a_stIMfyjAj7",
        "outputId": "69491a88-165f-4d1d-b3f6-0ce33d883265"
      },
      "outputs": [
        {
          "output_type": "stream",
          "name": "stdout",
          "text": [
            "Collecting mahotas\n",
            "  Downloading mahotas-1.4.12-cp37-cp37m-manylinux_2_12_x86_64.manylinux2010_x86_64.whl (5.7 MB)\n",
            "\u001b[K     |████████████████████████████████| 5.7 MB 4.6 MB/s \n",
            "\u001b[?25hRequirement already satisfied: numpy in /usr/local/lib/python3.7/dist-packages (from mahotas) (1.21.6)\n",
            "Installing collected packages: mahotas\n",
            "Successfully installed mahotas-1.4.12\n"
          ]
        }
      ],
      "source": [
        "!pip install mahotas\n",
        "import warnings\n",
        "warnings.filterwarnings('ignore')"
      ]
    },
    {
      "cell_type": "markdown",
      "metadata": {
        "id": "wMj4L5IC37M5"
      },
      "source": [
        ""
      ]
    },
    {
      "cell_type": "code",
      "execution_count": null,
      "metadata": {
        "id": "yv9M5j8H4jal",
        "colab": {
          "base_uri": "https://localhost:8080/"
        },
        "outputId": "5e812123-bdd8-408a-ab42-ff879bebbe0d"
      },
      "outputs": [
        {
          "output_type": "stream",
          "name": "stdout",
          "text": [
            "Mounted at /content/drive\n",
            "/content/drive/MyDrive/ML DataSet\n"
          ]
        }
      ],
      "source": [
        "from google.colab import drive\n",
        "drive.mount('/content/drive')\n",
        "%cd /content/drive/MyDrive/ML DataSet/"
      ]
    },
    {
      "cell_type": "markdown",
      "source": [
        "## Preprocessing"
      ],
      "metadata": {
        "id": "-GbU3km0f5PP"
      }
    },
    {
      "cell_type": "code",
      "execution_count": null,
      "metadata": {
        "id": "7JCJgSDxJubx"
      },
      "outputs": [],
      "source": [
        "import cv2\n",
        "from google.colab.patches import cv2_imshow\n",
        "import cv2\n",
        "from google.colab.patches import cv2_imshow\n",
        "import cv2\t\t\n",
        "import numpy as np\n",
        "import matplotlib.pyplot as plt\n",
        "from skimage import data, img_as_float\n",
        "from skimage.segmentation import chan_vese\n",
        "import cv2\n",
        "from PIL import Image\n",
        "from google.colab.patches import cv2_imshow\t\n",
        "import pickle\n",
        "\n",
        "def HairRemoval(src):\n",
        "  # Convert the original image to grayscale\n",
        "  grayScale = cv2.cvtColor( src, cv2.COLOR_BGR2GRAY )  \n",
        "  # cv2_imshow(grayScale)\n",
        "  #the quality of JPEG is specified by cv2.IMWRITE_JPEG_QUALITY. 0 is the lowest and 100 is the highest, the default is 95.\n",
        "  # cv2.imwrite('grayScale_sample1.jpg', grayScale, [int(cv2.IMWRITE_JPEG_QUALITY), 90])\n",
        "\n",
        "  # Kernel for the morphological filtering\n",
        "  #the shape(1 - >Cross , 0 -> rectangular, 2-> eliptical), 17 x 17 is the dimension of kernal\n",
        "  kernel = cv2.getStructuringElement(1,(17,17)) \n",
        "\n",
        "  # Perform the blackHat filtering on the grayscale image to find the \n",
        "  # hair countours\n",
        "\n",
        "  #blackhat-> to enchance dark objects in the light background. (hair are dark, skin is white )\n",
        "  blackhat_algo_flag=cv2.MORPH_BLACKHAT\n",
        "  blackhat = cv2.morphologyEx(grayScale,blackhat_algo_flag , kernel)\n",
        "  # cv2_imshow(blackhat)\n",
        "  # cv2.imwrite('blackhat_sample1.jpg', blackhat, [int(cv2.IMWRITE_JPEG_QUALITY), 90])\n",
        "\n",
        "  # intensify the hair countours in preparation for the inpainting algorithm\n",
        "  #10 and 255 is the min and max range. pixel between this intensity are intensified\n",
        "\n",
        "  ret,thresh2 = cv2.threshold(blackhat,10,255,cv2.THRESH_BINARY)\n",
        "  # print( thresh2.shape )\n",
        "  # cv2_imshow(thresh2)\n",
        "  # cv2.imwrite('thresholded_sample1.jpg', thresh2, [int(cv2.IMWRITE_JPEG_QUALITY), 90])\n",
        "\n",
        "  # inpaint the original image depending on the mask\n",
        "\n",
        "  inpaint_algo_flag=cv2.INPAINT_TELEA\n",
        "  dst = cv2.inpaint(src,thresh2,5,inpaint_algo_flag)\n",
        "  # cv2_imshow(dst)\n",
        "  # cv2.imwrite('InPainted_sample1.jpg', dst, [int(cv2.IMWRITE_JPEG_QUALITY), 90])\n",
        "\n",
        "# ------------------------------------Median Filterin -----------------------------------\n",
        "  load_image = dst \n",
        "  #kernel is the kernel size\n",
        "  kernel = 3\n",
        "  load_image_median = cv2.medianBlur(load_image, kernel) # Adding median filter \n",
        "\n",
        "  # cv2_imshow(load_image_median) \n",
        "# --------------------------------------Otsu--------------------------------------------\n",
        "  image1 = load_image_median\n",
        "  img = cv2.cvtColor(image1, cv2.COLOR_BGR2GRAY)\n",
        "\n",
        "  ret, thresh1 = cv2.threshold(img, 120, 255, cv2.THRESH_BINARY +\n",
        "                        cv2.THRESH_OTSU)\t\n",
        "\n",
        "  # cv2_imshow(thresh1)\t\n",
        "\n",
        "# -----------------------------------Chan vese ------------------------------------------\n",
        "\n",
        "  src = thresh1\n",
        "  # grayScale = cv2.cvtColor( src, cv2.COLOR_BGR2GRAY )  \n",
        "\n",
        "  image = img_as_float(thresh1)\n",
        "\n",
        "  # Feel free to play around with the parameters to see how they impact the result\n",
        "  cv = chan_vese(image, mu=0.05, lambda1=1, lambda2=1, tol=1e-3,\n",
        "                max_iter = 150, dt=0.5, init_level_set=\"checkerboard\",\n",
        "                extended_output=True)\n",
        "\n",
        "  # plt.imshow(cv[1],cmap = \"gray\")\n",
        "  # plt.xticks([])\n",
        "  # plt.yticks([])\n",
        "  # plt.show()\n",
        "  return cv\n",
        "\n"
      ]
    },
    {
      "cell_type": "code",
      "execution_count": null,
      "metadata": {
        "id": "EQMgsCv569r6"
      },
      "outputs": [],
      "source": [
        "\n",
        "# src = cv2.imread(\"Benign/benign41.jpg\")   #importing image\n",
        "# src = cv2.resize(src,(275,183))   #compressing image\n",
        "# print( src.shape )\n",
        "# cv2_imshow( src )\n",
        "# cv = HairRemoval(src)"
      ]
    },
    {
      "cell_type": "code",
      "execution_count": null,
      "metadata": {
        "id": "Dw0S6Wd2p7mQ"
      },
      "outputs": [],
      "source": [
        "import cv2\n",
        "import numpy as np\n",
        "import mahotas\n",
        "import mahotas.demos\n",
        "import math\n",
        "from sklearn.preprocessing import MinMaxScaler\n",
        "from skimage import feature,img_as_ubyte\n",
        "def preprocessing(cv_1,):\n",
        "  img = cv_1\n",
        "  ret, thresh = cv2.threshold(img,0,255,cv2.THRESH_BINARY)\n",
        "  # cv2_imshow( thresh)\n",
        "  area2 = cv2.countNonZero(thresh)\n",
        "  # print(area2)\n",
        "\n",
        "  x = cv_1\n",
        "  hor_flip = np.fliplr(x)\n",
        "  ver_flip = np.flipud(x)\n",
        "  diff1 = x - hor_flip\n",
        "  diff2 = x - ver_flip\n",
        "  ret, thresh = cv2.threshold(diff1,0,255,cv2.THRESH_BINARY)\n",
        "\n",
        "  area_hor = cv2.countNonZero(thresh)\n",
        "  # print(area_hor)\n",
        "\n",
        "  ret, thresh = cv2.threshold(diff2,0,255,cv2.THRESH_BINARY)\n",
        "\n",
        "  area_ver = cv2.countNonZero(thresh)\n",
        "  # print(area_ver)\n",
        "  assymetry_index  = (((area2 - area_hor)/area2) + ((area2 - area_ver)/area2))/2\n",
        "  # print(assymetry_index)\n",
        "\n",
        "  value = mahotas.features.eccentricity(cv_1)\n",
        "  # print(value)\n",
        "\n",
        "  slice1Copy = np.uint8(cv_1)\n",
        "  canny = cv2.Canny(slice1Copy,100,200)\n",
        "  perimeter = 0 \n",
        "  for i in canny:\n",
        "    perimeter+=i.tolist().count(255)\n",
        "  border_irregularity = (perimeter**2)/(4 * np.pi*area2)\n",
        "  # print(border_irregularity)\n",
        "  diameter = math.sqrt(4*area2/np.pi)\n",
        "  # print(diameter)\n",
        "\n",
        "  \n",
        "  scaler = MinMaxScaler(feature_range=[-0.99,0.99])\n",
        "  scaled_cv1 = scaler.fit_transform(cv[1])\n",
        "  # print(scaled_cv1)\n",
        "\n",
        "  glcm = feature.greycomatrix(image=img_as_ubyte(scaled_cv1), distances=[1],\n",
        "                                    angles=[0, np.pi/4, np.pi/2, np.pi * 3/2],\n",
        "                                    symmetric=True, normed=True)\n",
        "\n",
        "  correlation = np.mean(feature.greycoprops(glcm, prop='correlation'))\n",
        "  homogeneity = np.mean(feature.greycoprops(glcm, prop='homogeneity'))\n",
        "  energy = np.mean(feature.greycoprops(glcm, prop='energy'))\n",
        "  contrast = np.mean(feature.greycoprops(glcm, prop='contrast'))\n",
        "  # print(correlation)\n",
        "  # print(homogeneity)\n",
        "  # print(energy)\n",
        "  # print(contrast)\n",
        "  return [assymetry_index,value,border_irregularity,diameter,correlation,homogeneity,energy,contrast]\n"
      ]
    },
    {
      "cell_type": "code",
      "execution_count": null,
      "metadata": {
        "id": "OHNZHs6j7JnT"
      },
      "outputs": [],
      "source": [
        "name = \"benign/melanoma_\"\n",
        "feature_list = []\n",
        "class_list = []\n",
        "for i in range(0,2001):\n",
        "  class_list.append(0)\n",
        "  img = name+str(i)+\".jpg\"\n",
        "  # print(img)\n",
        "  print(i)\n",
        "  src = cv2.imread(img)   #importing image\n",
        "  # print(src)\n",
        "  src = cv2.resize(src,(275,183))   #compressing image\n",
        "  cv = HairRemoval(src)\n",
        "  prep = preprocessing(cv[1])\n",
        "  feature_list.append(prep)\n",
        "feature_list\n",
        "\n",
        "import csv\n",
        "import numpy\n",
        "\n",
        "a = numpy.array(feature_list)\n",
        "\n",
        "with open('myfile.csv', 'w', newline='') as file:\n",
        "    mywriter = csv.writer(file, delimiter=',')\n",
        "    mywriter.writerows(a)"
      ]
    },
    {
      "cell_type": "code",
      "execution_count": null,
      "metadata": {
        "id": "iHZ4uM2E-eDm"
      },
      "outputs": [],
      "source": [
        "name = \"malignant/melanoma_\"\n",
        "# feature_list = []\n",
        "# class_list = []\n",
        "for i in range(5000,7001):\n",
        "  class_list.append(1)\n",
        "  img = name+str(i)+\".jpg\"\n",
        "  src = cv2.imread(img)   #importing image\n",
        "  src = cv2.resize(src,(275,183))   #compressing image\n",
        "  # print(src.shape)\n",
        "  # cv2_imshow(src)\n",
        "  print(i)\n",
        "  cv = HairRemoval(src)\n",
        "  prep = preprocessing(cv[1])\n",
        "  feature_list.append(prep)\n",
        "feature_list\n",
        "\n",
        "import csv\n",
        "import numpy\n",
        "\n",
        "a = numpy.array(feature_list)\n",
        "\n",
        "with open('myfile_malignant.csv', 'w', newline='') as file:\n",
        "    mywriter = csv.writer(file, delimiter=',')\n",
        "    mywriter.writerows(a)"
      ]
    },
    {
      "cell_type": "code",
      "execution_count": null,
      "metadata": {
        "id": "HIlWWMxk-6XL"
      },
      "outputs": [],
      "source": [
        "name = \"unknown/unknown\"\n",
        "# feature_list = []\n",
        "# class_list = []\n",
        "for i in range(1,81):\n",
        "  class_list.append(2)\n",
        "  img = name+str(i)+\".jpg\"\n",
        "  src = cv2.imread(img)   #importing image\n",
        "  src = cv2.resize(src,(275,183))   #compressing image\n",
        "  # print( src.shape )\n",
        "  # cv2_imshow( src )\n",
        "  cv = HairRemoval(src)\n",
        "  prep = preprocessing(cv[1])\n",
        "  feature_list.append(prep)\n",
        "feature_list"
      ]
    },
    {
      "cell_type": "code",
      "execution_count": null,
      "metadata": {
        "id": "-9h8i8DnBQoi",
        "colab": {
          "base_uri": "https://localhost:8080/",
          "height": 240
        },
        "outputId": "70864505-33a8-4716-bd88-8ce77fba35d0"
      },
      "outputs": [
        {
          "output_type": "error",
          "ename": "NameError",
          "evalue": "ignored",
          "traceback": [
            "\u001b[0;31m---------------------------------------------------------------------------\u001b[0m",
            "\u001b[0;31mNameError\u001b[0m                                 Traceback (most recent call last)",
            "\u001b[0;32m<ipython-input-6-1aeeb31ce28a>\u001b[0m in \u001b[0;36m<module>\u001b[0;34m()\u001b[0m\n\u001b[1;32m      1\u001b[0m \u001b[0;32mimport\u001b[0m \u001b[0mpandas\u001b[0m \u001b[0;32mas\u001b[0m \u001b[0mpd\u001b[0m\u001b[0;34m\u001b[0m\u001b[0;34m\u001b[0m\u001b[0m\n\u001b[0;32m----> 2\u001b[0;31m \u001b[0mdf1\u001b[0m \u001b[0;34m=\u001b[0m \u001b[0mpd\u001b[0m\u001b[0;34m.\u001b[0m\u001b[0mDataFrame\u001b[0m\u001b[0;34m(\u001b[0m\u001b[0mfeature_list\u001b[0m\u001b[0;34m)\u001b[0m\u001b[0;34m\u001b[0m\u001b[0;34m\u001b[0m\u001b[0m\n\u001b[0m\u001b[1;32m      3\u001b[0m \u001b[0mdf2\u001b[0m \u001b[0;34m=\u001b[0m \u001b[0mpd\u001b[0m\u001b[0;34m.\u001b[0m\u001b[0mDataFrame\u001b[0m\u001b[0;34m(\u001b[0m\u001b[0mclass_list\u001b[0m\u001b[0;34m)\u001b[0m\u001b[0;34m\u001b[0m\u001b[0;34m\u001b[0m\u001b[0m\n\u001b[1;32m      4\u001b[0m \u001b[0;34m\u001b[0m\u001b[0m\n\u001b[1;32m      5\u001b[0m \u001b[0mdf2\u001b[0m\u001b[0;34m\u001b[0m\u001b[0;34m\u001b[0m\u001b[0m\n",
            "\u001b[0;31mNameError\u001b[0m: name 'feature_list' is not defined"
          ]
        }
      ],
      "source": [
        "import pandas as pd\n",
        "\n",
        "df1 = pd.DataFrame(feature_list)\n",
        "df2 = pd.DataFrame(class_list)\n",
        "\n",
        "df2\n",
        "df = pd.concat([df1,df2],axis=1)\n",
        "df\n",
        "df.columns = ['Assymetry_index', 'Eccentricity', 'Border_Irregularity','Diameter','Corelation','Homogeniety','Energy','Contrast','label']\n",
        "\n",
        "df.to_csv('data_frame.csv')"
      ]
    },
    {
      "cell_type": "markdown",
      "source": [
        "## Loading from CSV"
      ],
      "metadata": {
        "id": "KpQmhYBZg4mP"
      }
    },
    {
      "cell_type": "code",
      "source": [
        "import pandas as pd\n",
        "df = pd.read_csv(\"data_cnn.csv\")"
      ],
      "metadata": {
        "id": "NpIM2XxoYhNp"
      },
      "execution_count": null,
      "outputs": []
    },
    {
      "cell_type": "code",
      "source": [
        ""
      ],
      "metadata": {
        "id": "MzOtPernYnwI"
      },
      "execution_count": null,
      "outputs": []
    },
    {
      "cell_type": "code",
      "execution_count": null,
      "metadata": {
        "colab": {
          "base_uri": "https://localhost:8080/"
        },
        "id": "zzV5r9dHFRxW",
        "outputId": "0bcace42-d63b-42db-8177-611e8b596aea"
      },
      "outputs": [
        {
          "output_type": "execute_result",
          "data": {
            "text/plain": [
              "Assymetry_index        0\n",
              "Border_Irregularity    0\n",
              "Diameter               0\n",
              "Corelation             0\n",
              "Homogeniety            0\n",
              "Energy                 0\n",
              "Contrast               0\n",
              "label                  0\n",
              "dtype: int64"
            ]
          },
          "metadata": {},
          "execution_count": 5
        }
      ],
      "source": [
        "df.drop(df.tail(2).index,inplace=True) # drop last n rows\n",
        "df = df.drop(['Eccentricity'], axis=1)\n",
        "df = df.drop(['Unnamed: 0'], axis=1)\n",
        "df.isnull().sum()\n",
        "# print(df)"
      ]
    },
    {
      "cell_type": "code",
      "source": [
        "import numpy as np\n",
        "from sklearn.model_selection import train_test_split\n",
        "X_train, X_test, y_train, y_test = train_test_split(df.iloc[:,:-1],df.iloc[:,-1] , test_size=0.20)\n",
        "# X_train, X_val, y_train, y_val = train_test_split(df.iloc[:,:-1],df.iloc[:,-1] , test_size=0.20)\n",
        "X_train"
      ],
      "metadata": {
        "colab": {
          "base_uri": "https://localhost:8080/",
          "height": 419
        },
        "id": "DZIqxjvxYMes",
        "outputId": "bab0986a-a6ed-423f-bb8d-373bcbaa56e0"
      },
      "execution_count": null,
      "outputs": [
        {
          "output_type": "execute_result",
          "data": {
            "text/plain": [
              "      Assymetry_index  Border_Irregularity    Diameter  Corelation  \\\n",
              "89          -0.262818             0.860043  158.917294    0.915688   \n",
              "2486        -1.019186             1.655468  125.676317    0.875970   \n",
              "3356         0.210340            27.969828  200.965565    0.874706   \n",
              "2478        -2.400027             4.112158   96.850172    0.802244   \n",
              "2921         0.089594             0.601426  187.164739    0.843379   \n",
              "...               ...                  ...         ...         ...   \n",
              "873          0.347776             4.850612  221.127772    0.865097   \n",
              "3850         0.354782             3.507025  222.325060    0.913871   \n",
              "2546        -0.019206             3.059225  176.893005    0.954313   \n",
              "1758         0.062505             1.270026  184.440815    0.945792   \n",
              "1304         0.180071             2.812058  197.221183    0.945055   \n",
              "\n",
              "      Homogeniety    Energy     Contrast  \n",
              "89       0.577411  0.379814  2076.634685  \n",
              "2486     0.650225  0.499984  2667.023105  \n",
              "3356     0.670390  0.352034  3493.526858  \n",
              "2478     0.716133  0.622862  3454.447900  \n",
              "2921     0.560037  0.385775  3675.822587  \n",
              "...           ...       ...          ...  \n",
              "873      0.557774  0.257055  3141.495872  \n",
              "3850     0.604275  0.259482  2035.725008  \n",
              "2546     0.708560  0.441144  1251.125010  \n",
              "1758     0.608797  0.361079  1418.699875  \n",
              "1304     0.663559  0.349240  1453.790932  \n",
              "\n",
              "[3207 rows x 7 columns]"
            ],
            "text/html": [
              "\n",
              "  <div id=\"df-1a01f51b-dbdd-45bf-8773-b2d531722542\">\n",
              "    <div class=\"colab-df-container\">\n",
              "      <div>\n",
              "<style scoped>\n",
              "    .dataframe tbody tr th:only-of-type {\n",
              "        vertical-align: middle;\n",
              "    }\n",
              "\n",
              "    .dataframe tbody tr th {\n",
              "        vertical-align: top;\n",
              "    }\n",
              "\n",
              "    .dataframe thead th {\n",
              "        text-align: right;\n",
              "    }\n",
              "</style>\n",
              "<table border=\"1\" class=\"dataframe\">\n",
              "  <thead>\n",
              "    <tr style=\"text-align: right;\">\n",
              "      <th></th>\n",
              "      <th>Assymetry_index</th>\n",
              "      <th>Border_Irregularity</th>\n",
              "      <th>Diameter</th>\n",
              "      <th>Corelation</th>\n",
              "      <th>Homogeniety</th>\n",
              "      <th>Energy</th>\n",
              "      <th>Contrast</th>\n",
              "    </tr>\n",
              "  </thead>\n",
              "  <tbody>\n",
              "    <tr>\n",
              "      <th>89</th>\n",
              "      <td>-0.262818</td>\n",
              "      <td>0.860043</td>\n",
              "      <td>158.917294</td>\n",
              "      <td>0.915688</td>\n",
              "      <td>0.577411</td>\n",
              "      <td>0.379814</td>\n",
              "      <td>2076.634685</td>\n",
              "    </tr>\n",
              "    <tr>\n",
              "      <th>2486</th>\n",
              "      <td>-1.019186</td>\n",
              "      <td>1.655468</td>\n",
              "      <td>125.676317</td>\n",
              "      <td>0.875970</td>\n",
              "      <td>0.650225</td>\n",
              "      <td>0.499984</td>\n",
              "      <td>2667.023105</td>\n",
              "    </tr>\n",
              "    <tr>\n",
              "      <th>3356</th>\n",
              "      <td>0.210340</td>\n",
              "      <td>27.969828</td>\n",
              "      <td>200.965565</td>\n",
              "      <td>0.874706</td>\n",
              "      <td>0.670390</td>\n",
              "      <td>0.352034</td>\n",
              "      <td>3493.526858</td>\n",
              "    </tr>\n",
              "    <tr>\n",
              "      <th>2478</th>\n",
              "      <td>-2.400027</td>\n",
              "      <td>4.112158</td>\n",
              "      <td>96.850172</td>\n",
              "      <td>0.802244</td>\n",
              "      <td>0.716133</td>\n",
              "      <td>0.622862</td>\n",
              "      <td>3454.447900</td>\n",
              "    </tr>\n",
              "    <tr>\n",
              "      <th>2921</th>\n",
              "      <td>0.089594</td>\n",
              "      <td>0.601426</td>\n",
              "      <td>187.164739</td>\n",
              "      <td>0.843379</td>\n",
              "      <td>0.560037</td>\n",
              "      <td>0.385775</td>\n",
              "      <td>3675.822587</td>\n",
              "    </tr>\n",
              "    <tr>\n",
              "      <th>...</th>\n",
              "      <td>...</td>\n",
              "      <td>...</td>\n",
              "      <td>...</td>\n",
              "      <td>...</td>\n",
              "      <td>...</td>\n",
              "      <td>...</td>\n",
              "      <td>...</td>\n",
              "    </tr>\n",
              "    <tr>\n",
              "      <th>873</th>\n",
              "      <td>0.347776</td>\n",
              "      <td>4.850612</td>\n",
              "      <td>221.127772</td>\n",
              "      <td>0.865097</td>\n",
              "      <td>0.557774</td>\n",
              "      <td>0.257055</td>\n",
              "      <td>3141.495872</td>\n",
              "    </tr>\n",
              "    <tr>\n",
              "      <th>3850</th>\n",
              "      <td>0.354782</td>\n",
              "      <td>3.507025</td>\n",
              "      <td>222.325060</td>\n",
              "      <td>0.913871</td>\n",
              "      <td>0.604275</td>\n",
              "      <td>0.259482</td>\n",
              "      <td>2035.725008</td>\n",
              "    </tr>\n",
              "    <tr>\n",
              "      <th>2546</th>\n",
              "      <td>-0.019206</td>\n",
              "      <td>3.059225</td>\n",
              "      <td>176.893005</td>\n",
              "      <td>0.954313</td>\n",
              "      <td>0.708560</td>\n",
              "      <td>0.441144</td>\n",
              "      <td>1251.125010</td>\n",
              "    </tr>\n",
              "    <tr>\n",
              "      <th>1758</th>\n",
              "      <td>0.062505</td>\n",
              "      <td>1.270026</td>\n",
              "      <td>184.440815</td>\n",
              "      <td>0.945792</td>\n",
              "      <td>0.608797</td>\n",
              "      <td>0.361079</td>\n",
              "      <td>1418.699875</td>\n",
              "    </tr>\n",
              "    <tr>\n",
              "      <th>1304</th>\n",
              "      <td>0.180071</td>\n",
              "      <td>2.812058</td>\n",
              "      <td>197.221183</td>\n",
              "      <td>0.945055</td>\n",
              "      <td>0.663559</td>\n",
              "      <td>0.349240</td>\n",
              "      <td>1453.790932</td>\n",
              "    </tr>\n",
              "  </tbody>\n",
              "</table>\n",
              "<p>3207 rows × 7 columns</p>\n",
              "</div>\n",
              "      <button class=\"colab-df-convert\" onclick=\"convertToInteractive('df-1a01f51b-dbdd-45bf-8773-b2d531722542')\"\n",
              "              title=\"Convert this dataframe to an interactive table.\"\n",
              "              style=\"display:none;\">\n",
              "        \n",
              "  <svg xmlns=\"http://www.w3.org/2000/svg\" height=\"24px\"viewBox=\"0 0 24 24\"\n",
              "       width=\"24px\">\n",
              "    <path d=\"M0 0h24v24H0V0z\" fill=\"none\"/>\n",
              "    <path d=\"M18.56 5.44l.94 2.06.94-2.06 2.06-.94-2.06-.94-.94-2.06-.94 2.06-2.06.94zm-11 1L8.5 8.5l.94-2.06 2.06-.94-2.06-.94L8.5 2.5l-.94 2.06-2.06.94zm10 10l.94 2.06.94-2.06 2.06-.94-2.06-.94-.94-2.06-.94 2.06-2.06.94z\"/><path d=\"M17.41 7.96l-1.37-1.37c-.4-.4-.92-.59-1.43-.59-.52 0-1.04.2-1.43.59L10.3 9.45l-7.72 7.72c-.78.78-.78 2.05 0 2.83L4 21.41c.39.39.9.59 1.41.59.51 0 1.02-.2 1.41-.59l7.78-7.78 2.81-2.81c.8-.78.8-2.07 0-2.86zM5.41 20L4 18.59l7.72-7.72 1.47 1.35L5.41 20z\"/>\n",
              "  </svg>\n",
              "      </button>\n",
              "      \n",
              "  <style>\n",
              "    .colab-df-container {\n",
              "      display:flex;\n",
              "      flex-wrap:wrap;\n",
              "      gap: 12px;\n",
              "    }\n",
              "\n",
              "    .colab-df-convert {\n",
              "      background-color: #E8F0FE;\n",
              "      border: none;\n",
              "      border-radius: 50%;\n",
              "      cursor: pointer;\n",
              "      display: none;\n",
              "      fill: #1967D2;\n",
              "      height: 32px;\n",
              "      padding: 0 0 0 0;\n",
              "      width: 32px;\n",
              "    }\n",
              "\n",
              "    .colab-df-convert:hover {\n",
              "      background-color: #E2EBFA;\n",
              "      box-shadow: 0px 1px 2px rgba(60, 64, 67, 0.3), 0px 1px 3px 1px rgba(60, 64, 67, 0.15);\n",
              "      fill: #174EA6;\n",
              "    }\n",
              "\n",
              "    [theme=dark] .colab-df-convert {\n",
              "      background-color: #3B4455;\n",
              "      fill: #D2E3FC;\n",
              "    }\n",
              "\n",
              "    [theme=dark] .colab-df-convert:hover {\n",
              "      background-color: #434B5C;\n",
              "      box-shadow: 0px 1px 3px 1px rgba(0, 0, 0, 0.15);\n",
              "      filter: drop-shadow(0px 1px 2px rgba(0, 0, 0, 0.3));\n",
              "      fill: #FFFFFF;\n",
              "    }\n",
              "  </style>\n",
              "\n",
              "      <script>\n",
              "        const buttonEl =\n",
              "          document.querySelector('#df-1a01f51b-dbdd-45bf-8773-b2d531722542 button.colab-df-convert');\n",
              "        buttonEl.style.display =\n",
              "          google.colab.kernel.accessAllowed ? 'block' : 'none';\n",
              "\n",
              "        async function convertToInteractive(key) {\n",
              "          const element = document.querySelector('#df-1a01f51b-dbdd-45bf-8773-b2d531722542');\n",
              "          const dataTable =\n",
              "            await google.colab.kernel.invokeFunction('convertToInteractive',\n",
              "                                                     [key], {});\n",
              "          if (!dataTable) return;\n",
              "\n",
              "          const docLinkHtml = 'Like what you see? Visit the ' +\n",
              "            '<a target=\"_blank\" href=https://colab.research.google.com/notebooks/data_table.ipynb>data table notebook</a>'\n",
              "            + ' to learn more about interactive tables.';\n",
              "          element.innerHTML = '';\n",
              "          dataTable['output_type'] = 'display_data';\n",
              "          await google.colab.output.renderOutput(dataTable, element);\n",
              "          const docLink = document.createElement('div');\n",
              "          docLink.innerHTML = docLinkHtml;\n",
              "          element.appendChild(docLink);\n",
              "        }\n",
              "      </script>\n",
              "    </div>\n",
              "  </div>\n",
              "  "
            ]
          },
          "metadata": {},
          "execution_count": 6
        }
      ]
    },
    {
      "cell_type": "code",
      "source": [
        "from sklearn.utils import shuffle\n",
        "X_train,y_train = shuffle(X_train, y_train)"
      ],
      "metadata": {
        "id": "kPo3Bp45sRzj"
      },
      "execution_count": null,
      "outputs": []
    },
    {
      "cell_type": "code",
      "execution_count": null,
      "metadata": {
        "colab": {
          "base_uri": "https://localhost:8080/"
        },
        "id": "JbAelVsbF9-t",
        "outputId": "41c35ce7-0cdf-4da8-8846-8f4cdcee535b"
      },
      "outputs": [
        {
          "output_type": "execute_result",
          "data": {
            "text/plain": [
              "array([[-0.25518007,  0.64171159, -1.06968659, ...,  1.88493962,\n",
              "         1.97705615, -0.62149758],\n",
              "       [ 0.47354131, -0.62878665,  1.04551462, ..., -0.55797179,\n",
              "        -0.89388564, -0.58008061],\n",
              "       [ 0.45925893, -0.57201317,  0.94444299, ..., -1.57721087,\n",
              "        -1.02371417, -0.14605035],\n",
              "       ...,\n",
              "       [-0.46215149, -0.13598131, -1.2965556 , ...,  1.7186827 ,\n",
              "         1.98286755, -0.8233289 ],\n",
              "       [-0.14929904, -0.37610564, -0.92587163, ..., -0.06175612,\n",
              "         0.39599821, -0.09579809],\n",
              "       [ 0.39264698,  0.23579248,  0.54566244, ...,  0.50338368,\n",
              "        -0.35738253, -0.9108026 ]])"
            ]
          },
          "metadata": {},
          "execution_count": 9
        }
      ],
      "source": [
        "import numpy as np\n",
        "from sklearn.preprocessing import StandardScaler\n",
        "scaler = StandardScaler()\n",
        "X_train = scaler.fit_transform(X_train)\n",
        "# scaler.fit(X_val)\n",
        "X_test = scaler.fit_transform(X_test)\n",
        "X_train"
      ]
    },
    {
      "cell_type": "markdown",
      "source": [
        "## Grid Search"
      ],
      "metadata": {
        "id": "Jtj2Eo5phh-f"
      }
    },
    {
      "cell_type": "code",
      "execution_count": null,
      "metadata": {
        "colab": {
          "base_uri": "https://localhost:8080/"
        },
        "id": "q-SJNMrNLJqb",
        "outputId": "4d2e54bc-d915-4060-d650-dd6f5d6a7707"
      },
      "outputs": [
        {
          "output_type": "execute_result",
          "data": {
            "text/plain": [
              "GridSearchCV(estimator=LogisticRegression(),\n",
              "             param_grid={'C': array([1.e-03, 1.e-02, 1.e-01, 1.e+00, 1.e+01, 1.e+02, 1.e+03]),\n",
              "                         'multi_class': ['auto', 'ovr', 'multinominal'],\n",
              "                         'penalty': ['l1', 'l2', 'none'],\n",
              "                         'solver': ['newton-cg', 'lbfgs', 'liblinear', 'sag',\n",
              "                                    'saga']})"
            ]
          },
          "metadata": {},
          "execution_count": 10
        }
      ],
      "source": [
        "from sklearn.model_selection import GridSearchCV\n",
        "from sklearn.linear_model import LogisticRegression\n",
        "grid={\"C\":np.logspace(-3,3,7), \"penalty\":[\"l1\",\"l2\",'none'],\"solver\":[\"newton-cg\", \"lbfgs\", \"liblinear\", \"sag\", \"saga\"],\"multi_class\":[\"auto\",\"ovr\",\"multinominal\"]}\n",
        "logreg=LogisticRegression()\n",
        "logreg_cv=GridSearchCV(logreg,grid)\n",
        "logreg_cv.fit(X_train,y_train)\n"
      ]
    },
    {
      "cell_type": "code",
      "execution_count": null,
      "metadata": {
        "colab": {
          "base_uri": "https://localhost:8080/"
        },
        "id": "mljq0TfGNzB1",
        "outputId": "e139976b-9d4b-4edf-e6c0-22520ea9f28b"
      },
      "outputs": [
        {
          "output_type": "execute_result",
          "data": {
            "text/plain": [
              "{'C': 100.0, 'multi_class': 'auto', 'penalty': 'l1', 'solver': 'liblinear'}"
            ]
          },
          "metadata": {},
          "execution_count": 11
        }
      ],
      "source": [
        "logreg_cv.best_params_"
      ]
    },
    {
      "cell_type": "code",
      "source": [
        "from sklearn.linear_model import LogisticRegression\n",
        "from sklearn.metrics import accuracy_score, f1_score, precision_score, recall_score, classification_report, confusion_matrix\n"
      ],
      "metadata": {
        "id": "IDoZzn5BYIwP"
      },
      "execution_count": null,
      "outputs": []
    },
    {
      "cell_type": "code",
      "execution_count": null,
      "metadata": {
        "colab": {
          "base_uri": "https://localhost:8080/"
        },
        "id": "BuIo_htQJGUC",
        "outputId": "b52a6a99-2096-41f6-bb3d-e097c822ff75"
      },
      "outputs": [
        {
          "output_type": "stream",
          "name": "stdout",
          "text": [
            "[ 256  833 1410 1987 2565]\n",
            "0.7212347988774556\n",
            "Accuracy Score : 0.7281795511221946\n",
            "Precision Score : 0.7327981593929628\n",
            "Recall Score : 0.7281795511221946\n",
            "F1 Score : 0.7288558816229568\n"
          ]
        }
      ],
      "source": [
        "from sklearn.linear_model import LogisticRegression\n",
        "from sklearn.model_selection import StratifiedKFold\n",
        "from sklearn.model_selection import learning_curve\n",
        "from sklearn.metrics import accuracy_score, f1_score, precision_score, recall_score, classification_report, confusion_matrix\n",
        "clf = LogisticRegression(C=0.001,multi_class='auto',penalty='none',solver='newton-cg',max_iter=1000).fit(X_train, y_train)\n",
        "train_score = clf.score(X_train,y_train)\n",
        "cv = StratifiedKFold(n_splits=5,shuffle=True)\n",
        "train_size,train_scores,test_scores = learning_curve(estimator=clf,X=X_train,y=y_train,cv=cv,scoring=\"accuracy\")\n",
        "print(train_size)\n",
        "train_scores = 1-np.mean(train_scores,axis=1)\n",
        "test_scores = 1-np.mean(test_scores,axis=1)\n",
        "print(train_score)\n",
        "y_pred = clf.predict(X_test)\n",
        "print(\"Accuracy Score : \"+ str(accuracy_score(y_pred,y_test)))\n",
        "print(\"Precision Score : \"+ str(precision_score(y_pred,y_test,average='weighted')))\n",
        "print(\"Recall Score : \"+ str(recall_score(y_pred,y_test,average='weighted')))\n",
        "print(\"F1 Score : \"+ str(f1_score(y_pred,y_test,average='weighted')))\n",
        "# sns.lineplot(data=lc[\"learning_curve\"],x=\"Training_size\",y=\"value\",hue=\"variable\")"
      ]
    },
    {
      "cell_type": "code",
      "source": [
        "# train_size\n",
        "lc"
      ],
      "metadata": {
        "colab": {
          "base_uri": "https://localhost:8080/",
          "height": 187
        },
        "id": "TlQYbc6Kpjsf",
        "outputId": "70b39672-1c8e-41a1-d3c3-97befd2fbf9d"
      },
      "execution_count": null,
      "outputs": [
        {
          "output_type": "error",
          "ename": "NameError",
          "evalue": "ignored",
          "traceback": [
            "\u001b[0;31m---------------------------------------------------------------------------\u001b[0m",
            "\u001b[0;31mNameError\u001b[0m                                 Traceback (most recent call last)",
            "\u001b[0;32m<ipython-input-14-cce3eeb1ba10>\u001b[0m in \u001b[0;36m<module>\u001b[0;34m()\u001b[0m\n\u001b[1;32m      1\u001b[0m \u001b[0;31m# train_size\u001b[0m\u001b[0;34m\u001b[0m\u001b[0;34m\u001b[0m\u001b[0;34m\u001b[0m\u001b[0m\n\u001b[0;32m----> 2\u001b[0;31m \u001b[0mlc\u001b[0m\u001b[0;34m\u001b[0m\u001b[0;34m\u001b[0m\u001b[0m\n\u001b[0m",
            "\u001b[0;31mNameError\u001b[0m: name 'lc' is not defined"
          ]
        }
      ]
    },
    {
      "cell_type": "code",
      "source": [
        "import seaborn as sns\n",
        "lc = pd.DataFrame({\"Training_size\":train_size,\"Training_loss\":train_scores,\"Validation_loss\":test_scores}).melt(id_vars=\"Training_size\")\n",
        "sns.lineplot(data=lc,x=\"Training_size\",y=\"value\",hue=\"variable\")\n",
        "plt.title(\"Learning Curve \")\n",
        "plt.ylabel(\"Misclassification Rate/Loss\");"
      ],
      "metadata": {
        "colab": {
          "base_uri": "https://localhost:8080/",
          "height": 296
        },
        "id": "lf4_zniKeqTq",
        "outputId": "7b140f84-2da8-4140-c3b3-3b360d0393d7"
      },
      "execution_count": null,
      "outputs": [
        {
          "output_type": "display_data",
          "data": {
            "text/plain": [
              "<Figure size 432x288 with 1 Axes>"
            ],
            "image/png": "[encoded data removed]"
          },
          "metadata": {
            "needs_background": "light"
          }
        }
      ]
    },
    {
      "cell_type": "code",
      "source": [
        "from sklearn.linear_model import LogisticRegression\n",
        "from sklearn.model_selection import StratifiedKFold\n",
        "from sklearn.model_selection import learning_curve\n",
        "from sklearn.metrics import accuracy_score, f1_score, precision_score, recall_score, classification_report, confusion_matrix\n",
        "clf = LogisticRegression(C=0.001,multi_class='auto',penalty='none',solver='newton-cg',max_iter=2000).fit(X_train, y_train)\n",
        "train_score = clf.score(X_train,y_train)\n",
        "cv = StratifiedKFold(n_splits=5,shuffle=True)\n",
        "train_size,train_scores,test_scores = learning_curve(estimator=clf,X=X_train,y=y_train,cv=cv,scoring=\"accuracy\")\n",
        "print(train_size)\n",
        "train_scores = 1-np.mean(train_scores,axis=1)\n",
        "test_scores = 1-np.mean(test_scores,axis=1)\n",
        "print(train_score)\n",
        "y_pred = clf.predict(X_test)\n",
        "print(\"Accuracy Score : \"+ str(accuracy_score(y_pred,y_test)))\n",
        "print(\"Precision Score : \"+ str(precision_score(y_pred,y_test,average='weighted')))\n",
        "print(\"Recall Score : \"+ str(recall_score(y_pred,y_test,average='weighted')))\n",
        "print(\"F1 Score : \"+ str(f1_score(y_pred,y_test,average='weighted')))"
      ],
      "metadata": {
        "colab": {
          "base_uri": "https://localhost:8080/"
        },
        "id": "pJVXp36bGPsX",
        "outputId": "b2d4cea8-1231-4850-e0bb-0f0bb0cba0be"
      },
      "execution_count": null,
      "outputs": [
        {
          "output_type": "stream",
          "name": "stdout",
          "text": [
            "[ 256  833 1410 1987 2565]\n",
            "0.7212347988774556\n",
            "Accuracy Score : 0.7281795511221946\n",
            "Precision Score : 0.7327981593929628\n",
            "Recall Score : 0.7281795511221946\n",
            "F1 Score : 0.7288558816229568\n"
          ]
        }
      ]
    },
    {
      "cell_type": "code",
      "source": [
        "import seaborn as sns\n",
        "lc = pd.DataFrame({\"Training_size\":train_size,\"Training_loss\":train_scores,\"Validation_loss\":test_scores}).melt(id_vars=\"Training_size\")\n",
        "sns.lineplot(data=lc,x=\"Training_size\",y=\"value\",hue=\"variable\")\n",
        "plt.title(\"Learning Curve of Good Fit Model\")\n",
        "plt.ylabel(\"Misclassification Rate/Loss\")"
      ],
      "metadata": {
        "colab": {
          "base_uri": "https://localhost:8080/",
          "height": 314
        },
        "id": "9DINbIziGY6H",
        "outputId": "4e315ec9-913d-40c1-9dd4-debf5f311ad4"
      },
      "execution_count": null,
      "outputs": [
        {
          "output_type": "execute_result",
          "data": {
            "text/plain": [
              "Text(0, 0.5, 'Misclassification Rate/Loss')"
            ]
          },
          "metadata": {},
          "execution_count": 17
        },
        {
          "output_type": "display_data",
          "data": {
            "text/plain": [
              "<Figure size 432x288 with 1 Axes>"
            ],
            "image/png": "[encoded data removed]"
          },
          "metadata": {
            "needs_background": "light"
          }
        }
      ]
    },
    {
      "cell_type": "code",
      "source": [
        "lc"
      ],
      "metadata": {
        "colab": {
          "base_uri": "https://localhost:8080/",
          "height": 363
        },
        "id": "nLHVZC5OgUFr",
        "outputId": "d51cfb84-e985-40e3-db9f-e7b5e033c887"
      },
      "execution_count": null,
      "outputs": [
        {
          "output_type": "execute_result",
          "data": {
            "text/plain": [
              "   Training_size         variable     value\n",
              "0            256    Training_loss  0.296875\n",
              "1            833    Training_loss  0.304922\n",
              "2           1410    Training_loss  0.291773\n",
              "3           1987    Training_loss  0.284650\n",
              "4           2565    Training_loss  0.278441\n",
              "5            256  Validation_loss  0.309015\n",
              "6            833  Validation_loss  0.295604\n",
              "7           1410  Validation_loss  0.291858\n",
              "8           1987  Validation_loss  0.285623\n",
              "9           2565  Validation_loss  0.285623"
            ],
            "text/html": [
              "\n",
              "  <div id=\"df-b0a18c2c-3912-4314-b7ff-bc9f4796fae0\">\n",
              "    <div class=\"colab-df-container\">\n",
              "      <div>\n",
              "<style scoped>\n",
              "    .dataframe tbody tr th:only-of-type {\n",
              "        vertical-align: middle;\n",
              "    }\n",
              "\n",
              "    .dataframe tbody tr th {\n",
              "        vertical-align: top;\n",
              "    }\n",
              "\n",
              "    .dataframe thead th {\n",
              "        text-align: right;\n",
              "    }\n",
              "</style>\n",
              "<table border=\"1\" class=\"dataframe\">\n",
              "  <thead>\n",
              "    <tr style=\"text-align: right;\">\n",
              "      <th></th>\n",
              "      <th>Training_size</th>\n",
              "      <th>variable</th>\n",
              "      <th>value</th>\n",
              "    </tr>\n",
              "  </thead>\n",
              "  <tbody>\n",
              "    <tr>\n",
              "      <th>0</th>\n",
              "      <td>256</td>\n",
              "      <td>Training_loss</td>\n",
              "      <td>0.296875</td>\n",
              "    </tr>\n",
              "    <tr>\n",
              "      <th>1</th>\n",
              "      <td>833</td>\n",
              "      <td>Training_loss</td>\n",
              "      <td>0.304922</td>\n",
              "    </tr>\n",
              "    <tr>\n",
              "      <th>2</th>\n",
              "      <td>1410</td>\n",
              "      <td>Training_loss</td>\n",
              "      <td>0.291773</td>\n",
              "    </tr>\n",
              "    <tr>\n",
              "      <th>3</th>\n",
              "      <td>1987</td>\n",
              "      <td>Training_loss</td>\n",
              "      <td>0.284650</td>\n",
              "    </tr>\n",
              "    <tr>\n",
              "      <th>4</th>\n",
              "      <td>2565</td>\n",
              "      <td>Training_loss</td>\n",
              "      <td>0.278441</td>\n",
              "    </tr>\n",
              "    <tr>\n",
              "      <th>5</th>\n",
              "      <td>256</td>\n",
              "      <td>Validation_loss</td>\n",
              "      <td>0.309015</td>\n",
              "    </tr>\n",
              "    <tr>\n",
              "      <th>6</th>\n",
              "      <td>833</td>\n",
              "      <td>Validation_loss</td>\n",
              "      <td>0.295604</td>\n",
              "    </tr>\n",
              "    <tr>\n",
              "      <th>7</th>\n",
              "      <td>1410</td>\n",
              "      <td>Validation_loss</td>\n",
              "      <td>0.291858</td>\n",
              "    </tr>\n",
              "    <tr>\n",
              "      <th>8</th>\n",
              "      <td>1987</td>\n",
              "      <td>Validation_loss</td>\n",
              "      <td>0.285623</td>\n",
              "    </tr>\n",
              "    <tr>\n",
              "      <th>9</th>\n",
              "      <td>2565</td>\n",
              "      <td>Validation_loss</td>\n",
              "      <td>0.285623</td>\n",
              "    </tr>\n",
              "  </tbody>\n",
              "</table>\n",
              "</div>\n",
              "      <button class=\"colab-df-convert\" onclick=\"convertToInteractive('df-b0a18c2c-3912-4314-b7ff-bc9f4796fae0')\"\n",
              "              title=\"Convert this dataframe to an interactive table.\"\n",
              "              style=\"display:none;\">\n",
              "        \n",
              "  <svg xmlns=\"http://www.w3.org/2000/svg\" height=\"24px\"viewBox=\"0 0 24 24\"\n",
              "       width=\"24px\">\n",
              "    <path d=\"M0 0h24v24H0V0z\" fill=\"none\"/>\n",
              "    <path d=\"M18.56 5.44l.94 2.06.94-2.06 2.06-.94-2.06-.94-.94-2.06-.94 2.06-2.06.94zm-11 1L8.5 8.5l.94-2.06 2.06-.94-2.06-.94L8.5 2.5l-.94 2.06-2.06.94zm10 10l.94 2.06.94-2.06 2.06-.94-2.06-.94-.94-2.06-.94 2.06-2.06.94z\"/><path d=\"M17.41 7.96l-1.37-1.37c-.4-.4-.92-.59-1.43-.59-.52 0-1.04.2-1.43.59L10.3 9.45l-7.72 7.72c-.78.78-.78 2.05 0 2.83L4 21.41c.39.39.9.59 1.41.59.51 0 1.02-.2 1.41-.59l7.78-7.78 2.81-2.81c.8-.78.8-2.07 0-2.86zM5.41 20L4 18.59l7.72-7.72 1.47 1.35L5.41 20z\"/>\n",
              "  </svg>\n",
              "      </button>\n",
              "      \n",
              "  <style>\n",
              "    .colab-df-container {\n",
              "      display:flex;\n",
              "      flex-wrap:wrap;\n",
              "      gap: 12px;\n",
              "    }\n",
              "\n",
              "    .colab-df-convert {\n",
              "      background-color: #E8F0FE;\n",
              "      border: none;\n",
              "      border-radius: 50%;\n",
              "      cursor: pointer;\n",
              "      display: none;\n",
              "      fill: #1967D2;\n",
              "      height: 32px;\n",
              "      padding: 0 0 0 0;\n",
              "      width: 32px;\n",
              "    }\n",
              "\n",
              "    .colab-df-convert:hover {\n",
              "      background-color: #E2EBFA;\n",
              "      box-shadow: 0px 1px 2px rgba(60, 64, 67, 0.3), 0px 1px 3px 1px rgba(60, 64, 67, 0.15);\n",
              "      fill: #174EA6;\n",
              "    }\n",
              "\n",
              "    [theme=dark] .colab-df-convert {\n",
              "      background-color: #3B4455;\n",
              "      fill: #D2E3FC;\n",
              "    }\n",
              "\n",
              "    [theme=dark] .colab-df-convert:hover {\n",
              "      background-color: #434B5C;\n",
              "      box-shadow: 0px 1px 3px 1px rgba(0, 0, 0, 0.15);\n",
              "      filter: drop-shadow(0px 1px 2px rgba(0, 0, 0, 0.3));\n",
              "      fill: #FFFFFF;\n",
              "    }\n",
              "  </style>\n",
              "\n",
              "      <script>\n",
              "        const buttonEl =\n",
              "          document.querySelector('#df-b0a18c2c-3912-4314-b7ff-bc9f4796fae0 button.colab-df-convert');\n",
              "        buttonEl.style.display =\n",
              "          google.colab.kernel.accessAllowed ? 'block' : 'none';\n",
              "\n",
              "        async function convertToInteractive(key) {\n",
              "          const element = document.querySelector('#df-b0a18c2c-3912-4314-b7ff-bc9f4796fae0');\n",
              "          const dataTable =\n",
              "            await google.colab.kernel.invokeFunction('convertToInteractive',\n",
              "                                                     [key], {});\n",
              "          if (!dataTable) return;\n",
              "\n",
              "          const docLinkHtml = 'Like what you see? Visit the ' +\n",
              "            '<a target=\"_blank\" href=https://colab.research.google.com/notebooks/data_table.ipynb>data table notebook</a>'\n",
              "            + ' to learn more about interactive tables.';\n",
              "          element.innerHTML = '';\n",
              "          dataTable['output_type'] = 'display_data';\n",
              "          await google.colab.output.renderOutput(dataTable, element);\n",
              "          const docLink = document.createElement('div');\n",
              "          docLink.innerHTML = docLinkHtml;\n",
              "          element.appendChild(docLink);\n",
              "        }\n",
              "      </script>\n",
              "    </div>\n",
              "  </div>\n",
              "  "
            ]
          },
          "metadata": {},
          "execution_count": 28
        }
      ]
    },
    {
      "cell_type": "code",
      "execution_count": null,
      "metadata": {
        "colab": {
          "base_uri": "https://localhost:8080/"
        },
        "id": "l5RvTHCzQ80C",
        "outputId": "63a6e379-0d40-47f9-a544-b9c8bf9dfa2a"
      },
      "outputs": [
        {
          "output_type": "execute_result",
          "data": {
            "text/plain": [
              "array([0, 1, 0, 1, 1, 0, 0, 0, 0, 0, 0, 0, 1, 0, 1, 1, 1, 1, 0, 1, 0, 1,\n",
              "       1, 0, 0, 1, 0, 1, 0, 0, 0, 0, 1, 1, 1, 1, 1, 0, 0, 0, 1, 1, 0, 0,\n",
              "       0, 0, 0, 1, 1, 1, 1, 1, 0, 1, 0, 1, 1, 0, 0, 0, 1, 1, 0, 1, 0, 1,\n",
              "       0, 0, 1, 1, 1, 1, 0, 1, 1, 1, 1, 1, 0, 0, 0, 0, 1, 1, 0, 1, 0, 0,\n",
              "       1, 1, 1, 1, 1, 1, 1, 1, 0, 1, 1, 1, 0, 1, 0, 1, 0, 0, 1, 1, 0, 1,\n",
              "       1, 1, 0, 1, 1, 1, 1, 0, 1, 0, 1, 1, 1, 1, 1, 0, 0, 1, 1, 1, 1, 0,\n",
              "       1, 1, 0, 0, 1, 1, 1, 0, 0, 1, 1, 0, 0, 1, 1, 0, 0, 0, 1, 1, 1, 1,\n",
              "       0, 0, 0, 0, 1, 1, 1, 0, 1, 1, 1, 1, 0, 1, 1, 0, 1, 0, 1, 0, 0, 1,\n",
              "       1, 1, 1, 0, 1, 1, 1, 1, 0, 0, 1, 1, 1, 1, 1, 0, 1, 0, 1, 1, 0, 1,\n",
              "       0, 1, 1, 1, 0, 0, 1, 0, 0, 1, 0, 1, 0, 1, 1, 1, 0, 0, 1, 0, 1, 0,\n",
              "       0, 1, 1, 0, 0, 0, 1, 1, 0, 0, 1, 1, 0, 1, 0, 1, 1, 1, 0, 1, 1, 1,\n",
              "       0, 0, 1, 1, 1, 1, 1, 0, 1, 0, 1, 0, 0, 0, 0, 0, 1, 0, 0, 1, 1, 0,\n",
              "       0, 1, 1, 0, 1, 1, 1, 1, 1, 1, 0, 0, 1, 1, 1, 0, 1, 0, 1, 0, 1, 0,\n",
              "       1, 1, 0, 1, 1, 1, 1, 1, 0, 1, 1, 0, 0, 1, 0, 0, 1, 0, 1, 1, 0, 0,\n",
              "       0, 1, 1, 1, 1, 1, 0, 0, 0, 1, 0, 0, 1, 0, 0, 0, 0, 0, 0, 1, 1, 1,\n",
              "       1, 1, 0, 1, 1, 0, 0, 0, 1, 1, 1, 1, 1, 1, 1, 0, 1, 1, 0, 1, 1, 0,\n",
              "       1, 0, 0, 0, 0, 1, 0, 0, 0, 0, 1, 0, 0, 0, 1, 0, 0, 1, 1, 0, 1, 1,\n",
              "       1, 1, 1, 0, 0, 1, 1, 1, 0, 0, 1, 0, 0, 1, 1, 1, 0, 1, 0, 0, 1, 1,\n",
              "       1, 1, 0, 0, 0, 1, 1, 1, 1, 1, 0, 1, 0, 1, 1, 1, 0, 0, 0, 1, 0, 0,\n",
              "       1, 1, 1, 0, 1, 1, 1, 0, 1, 0, 1, 0, 1, 0, 0, 0, 1, 0, 1, 0, 1, 0,\n",
              "       1, 0, 1, 1, 0, 1, 1, 0, 1, 0, 0, 0, 0, 0, 0, 1, 1, 0, 0, 1, 1, 0,\n",
              "       1, 0, 0, 1, 0, 0, 1, 1, 0, 1, 0, 0, 1, 0, 1, 0, 0, 0, 0, 0, 0, 1,\n",
              "       0, 0, 1, 1, 1, 1, 0, 0, 0, 0, 1, 1, 1, 1, 1, 0, 1, 1, 1, 0, 1, 0,\n",
              "       0, 1, 0, 1, 0, 1, 0, 0, 0, 0, 0, 1, 0, 1, 1, 1, 1, 1, 0, 0, 0, 1,\n",
              "       0, 0, 1, 0, 1, 1, 1, 0, 0, 1, 1, 1, 0, 0, 0, 0, 1, 0, 1, 0, 1, 1,\n",
              "       1, 0, 0, 0, 1, 0, 0, 0, 0, 0, 1, 0, 1, 1, 0, 0, 0, 1, 1, 0, 1, 1,\n",
              "       1, 1, 1, 0, 1, 1, 0, 1, 1, 1, 1, 0, 0, 1, 1, 1, 1, 0, 1, 1, 0, 0,\n",
              "       1, 0, 1, 1, 0, 1, 0, 0, 1, 1, 0, 1, 1, 0, 0, 1, 0, 1, 1, 1, 1, 0,\n",
              "       1, 0, 1, 1, 0, 1, 1, 0, 0, 1, 1, 1, 0, 1, 1, 0, 0, 0, 1, 0, 0, 1,\n",
              "       0, 1, 0, 0, 0, 1, 1, 0, 1, 1, 0, 1, 1, 1, 0, 1, 0, 0, 1, 1, 1, 1,\n",
              "       0, 1, 1, 1, 0, 0, 1, 1, 1, 1, 0, 1, 1, 0, 1, 0, 0, 0, 1, 1, 1, 0,\n",
              "       1, 1, 0, 0, 0, 1, 0, 1, 1, 1, 1, 0, 1, 1, 0, 0, 1, 0, 0, 1, 0, 1,\n",
              "       0, 1, 0, 0, 1, 1, 1, 0, 0, 1, 1, 1, 1, 1, 1, 0, 0, 0, 1, 1, 1, 0,\n",
              "       0, 0, 0, 0, 0, 1, 1, 1, 1, 0, 1, 0, 0, 1, 1, 1, 1, 1, 0, 1, 1, 1,\n",
              "       1, 0, 0, 0, 0, 1, 1, 1, 1, 0, 1, 1, 0, 1, 0, 0, 1, 1, 1, 1, 1, 1,\n",
              "       1, 1, 1, 0, 0, 0, 0, 0, 1, 0, 0, 0, 1, 0, 1, 0, 1, 0, 1, 1, 1, 1,\n",
              "       0, 0, 1, 0, 0, 0, 0, 1, 1, 0])"
            ]
          },
          "metadata": {},
          "execution_count": 29
        }
      ],
      "source": [
        "y_pred"
      ]
    },
    {
      "cell_type": "code",
      "execution_count": null,
      "metadata": {
        "colab": {
          "base_uri": "https://localhost:8080/"
        },
        "id": "DsDKdQHHO0yv",
        "outputId": "09b464da-b886-4019-ea15-0179c3ea953d"
      },
      "outputs": [
        {
          "output_type": "execute_result",
          "data": {
            "text/plain": [
              "array([[271, 128],\n",
              "       [ 90, 313]])"
            ]
          },
          "metadata": {},
          "execution_count": 30
        }
      ],
      "source": [
        "from sklearn.metrics import confusion_matrix\n",
        "cm = confusion_matrix(y_test, y_pred)\n",
        "cm"
      ]
    },
    {
      "cell_type": "code",
      "execution_count": null,
      "metadata": {
        "id": "nQ_ephefQu6t"
      },
      "outputs": [],
      "source": [
        "cm_df = pd.DataFrame(cm, index = ['BENIGN','MALIGNANT'], columns = ['BENIGN','MALIGNANT'])\n"
      ]
    },
    {
      "cell_type": "code",
      "execution_count": null,
      "metadata": {
        "colab": {
          "base_uri": "https://localhost:8080/",
          "height": 295
        },
        "id": "fMpECfPrRW3Z",
        "outputId": "2a2eb180-7d1f-45ce-eb16-115b4c55f143"
      },
      "outputs": [
        {
          "output_type": "display_data",
          "data": {
            "text/plain": [
              "<Figure size 360x288 with 2 Axes>"
            ],
            "image/png": "[encoded data removed]"
          },
          "metadata": {
            "needs_background": "light"
          }
        }
      ],
      "source": [
        "import seaborn as sns\n",
        "plt.figure(figsize=(5,4))\n",
        "sns.heatmap(cm_df, annot=True)\n",
        "plt.title('Confusion Matrix')\n",
        "plt.ylabel('Actal Values')\n",
        "plt.xlabel('Predicted Values')\n",
        "plt.show()"
      ]
    },
    {
      "cell_type": "code",
      "execution_count": null,
      "metadata": {
        "colab": {
          "base_uri": "https://localhost:8080/"
        },
        "id": "Out4Vd7yKK38",
        "outputId": "790debb4-fed3-404d-d6fa-7268c8863cc5"
      },
      "outputs": [
        {
          "output_type": "stream",
          "name": "stdout",
          "text": [
            "1.0\n",
            "Accuracy Score : 0.7581047381546134\n",
            "Precision Score : 0.760993558939272\n",
            "Recall Score : 0.7581047381546134\n",
            "F1 Score : 0.7584890289974824\n"
          ]
        }
      ],
      "source": [
        "from sklearn.ensemble import RandomForestClassifier\n",
        "from sklearn.metrics import accuracy_score, f1_score, precision_score, recall_score, classification_report, confusion_matrix\n",
        "rf = RandomForestClassifier(n_estimators=2000).fit(X_train, y_train)\n",
        "train_score = rf.score(X_train,y_train)\n",
        "cv = StratifiedKFold(n_splits=5,shuffle=True)\n",
        "train_size,train_scores,test_scores = learning_curve(estimator=clf,X=X_train,y=y_train,cv=cv,scoring=\"accuracy\",random_state=11)\n",
        "train_scores = 1-np.mean(train_scores,axis=1)\n",
        "test_scores = 1-np.mean(test_scores,axis=1)\n",
        "print(train_score)\n",
        "y_pred = rf.predict(X_test)\n",
        "print(\"Accuracy Score : \"+ str(accuracy_score(y_pred,y_test)))\n",
        "print(\"Precision Score : \"+ str(precision_score(y_pred,y_test,average='weighted')))\n",
        "print(\"Recall Score : \"+ str(recall_score(y_pred,y_test,average='weighted')))\n",
        "print(\"F1 Score : \"+ str(f1_score(y_pred,y_test,average='weighted')))"
      ]
    },
    {
      "cell_type": "code",
      "source": [
        "import seaborn as sns\n",
        "lc = pd.DataFrame({\"Training_size\":train_size,\"Training_loss\":train_scores,\"Validation_loss\":test_scores}).melt(id_vars=\"Training_size\")\n",
        "sns.lineplot(data=lc,x=\"Training_size\",y=\"value\",hue=\"variable\")\n",
        "plt.title(\"Learning Curve \")\n",
        "plt.ylabel(\"Misclassification Rate/Loss\");"
      ],
      "metadata": {
        "colab": {
          "base_uri": "https://localhost:8080/",
          "height": 296
        },
        "id": "5DMdBiNKkToN",
        "outputId": "b3d7389f-1a0f-4903-bc50-7d4365b66f96"
      },
      "execution_count": null,
      "outputs": [
        {
          "output_type": "display_data",
          "data": {
            "text/plain": [
              "<Figure size 432x288 with 1 Axes>"
            ],
            "image/png": "[encoded data removed]"
          },
          "metadata": {
            "needs_background": "light"
          }
        }
      ]
    },
    {
      "cell_type": "code",
      "source": [
        "from sklearn.ensemble import StackingClassifier\n",
        "from sklearn.pipeline import make_pipeline\n",
        "from sklearn.naive_bayes import CategoricalNB\n",
        "from sklearn.naive_bayes import GaussianNB\n",
        "from sklearn.linear_model import LogisticRegression\n",
        "from sklearn.model_selection import StratifiedKFold\n",
        "from sklearn.model_selection import learning_curve\n",
        "from sklearn.ensemble import RandomForestClassifier\n",
        "from sklearn.neural_network import MLPClassifier\n",
        "from sklearn.svm import SVC, LinearSVC\n",
        "from sklearn.neighbors import KNeighborsClassifier\n",
        "\n",
        "estimators = [\n",
        "              ('rf', RandomForestClassifier(max_depth=20, n_estimators=2000)),\n",
        "              ('mlp', MLPClassifier(activation='relu', solver='adam', alpha=0.01,  max_iter=240)), \n",
        "              ('knn', KNeighborsClassifier(n_neighbors=7, weights='distance')),\n",
        "              (('svm', make_pipeline(StandardScaler(), \n",
        "                                    SVC(C=10, gamma=\"auto\", max_iter = 5000))))\n",
        "              ]\n",
        "clf = StackingClassifier(estimators=estimators, final_estimator=LogisticRegression(max_iter=1000))\n",
        "clf.fit(X_train, y_train)\n",
        "y_pred = clf.predict(X_test)\n"
      ],
      "metadata": {
        "id": "cI3XrdbxGzeH"
      },
      "execution_count": null,
      "outputs": []
    },
    {
      "cell_type": "code",
      "source": [
        "from sklearn.metrics import accuracy_score, f1_score, precision_score, recall_score, classification_report, confusion_matrix\n",
        "print(\"Accuracy Score : \"+ str(accuracy_score(y_pred,y_test)))\n",
        "print(\"Precision Score : \"+ str(precision_score(y_pred,y_test,average='weighted')))\n",
        "print(\"Recall Score : \"+ str(recall_score(y_pred,y_test,average='weighted')))\n",
        "print(\"F1 Score : \"+ str(f1_score(y_pred,y_test,average='weighted')))"
      ],
      "metadata": {
        "colab": {
          "base_uri": "https://localhost:8080/"
        },
        "id": "0Qtp1vZwJOm-",
        "outputId": "dedc8999-40ec-45ac-8599-1aa1e20364e0"
      },
      "execution_count": null,
      "outputs": [
        {
          "output_type": "stream",
          "name": "stdout",
          "text": [
            "Accuracy Score : 0.7917705735660848\n",
            "Precision Score : 0.8104062902254181\n",
            "Recall Score : 0.7917705735660848\n",
            "F1 Score : 0.7938105346316559\n"
          ]
        }
      ]
    },
    {
      "cell_type": "code",
      "source": [
        "from sklearn.metrics import confusion_matrix\n",
        "cm = confusion_matrix(y_test, y_pred)\n",
        "cm_df = pd.DataFrame(cm, index = ['BENIGN','MALIGNANT'], columns = ['BENIGN','MALIGNANT'])"
      ],
      "metadata": {
        "id": "lMaJI_xoJiMq"
      },
      "execution_count": null,
      "outputs": []
    },
    {
      "cell_type": "code",
      "source": [
        "import seaborn as sns\n",
        "plt.figure(figsize=(5,4))\n",
        "sns.heatmap(cm_df, annot=True)\n",
        "plt.title('Confusion Matrix')\n",
        "plt.ylabel('Actal Values')\n",
        "plt.xlabel('Predicted Values')\n",
        "plt.show()"
      ],
      "metadata": {
        "colab": {
          "base_uri": "https://localhost:8080/",
          "height": 295
        },
        "id": "eQUxagOHJdUj",
        "outputId": "30a539a5-c371-4b20-dd3a-627b8bf20d2e"
      },
      "execution_count": null,
      "outputs": [
        {
          "output_type": "display_data",
          "data": {
            "text/plain": [
              "<Figure size 360x288 with 2 Axes>"
            ],
            "image/png": "[encoded data removed]"
          },
          "metadata": {
            "needs_background": "light"
          }
        }
      ]
    },
    {
      "cell_type": "markdown",
      "source": [
        "# CNN with SMTP"
      ],
      "metadata": {
        "id": "ODB1VEDtkcQi"
      }
    },
    {
      "cell_type": "code",
      "source": [
        "import pandas as pd\n",
        "df = pd.read_csv(\"data_cnn.csv\")\n"
      ],
      "metadata": {
        "id": "DjZ7DIVmYzeV"
      },
      "execution_count": null,
      "outputs": []
    },
    {
      "cell_type": "code",
      "source": [
        "df.shape"
      ],
      "metadata": {
        "colab": {
          "base_uri": "https://localhost:8080/"
        },
        "id": "Afd_SmllZRyz",
        "outputId": "1a93aa65-1779-4beb-8211-fceead7a12d0"
      },
      "execution_count": null,
      "outputs": [
        {
          "output_type": "execute_result",
          "data": {
            "text/plain": [
              "(4539, 83)"
            ]
          },
          "metadata": {},
          "execution_count": 4
        }
      ]
    },
    {
      "cell_type": "code",
      "source": [
        "df.drop_duplicates()"
      ],
      "metadata": {
        "colab": {
          "base_uri": "https://localhost:8080/",
          "height": 488
        },
        "id": "Is5fxEqJdn-Z",
        "outputId": "21a212d2-2df8-45ce-faec-f2db8037fc26"
      },
      "execution_count": null,
      "outputs": [
        {
          "output_type": "execute_result",
          "data": {
            "text/plain": [
              "        id        x2           x3          x4    x5      x6     x7     x8  \\\n",
              "0        1  0.901336   896.724963  440.857183    55     181  12444  23623   \n",
              "1        2  0.604008   621.320851  176.068179     0     194   8602   1462   \n",
              "2        3  0.751895  1089.872150  311.061631    15     846  27261    530   \n",
              "3        4  0.632203  1428.097546  344.017297     0     790  47809    915   \n",
              "4        5  0.546859  1372.884343  315.822258   181    1471  43247   2698   \n",
              "...    ...       ...          ...         ...   ...     ...    ...    ...   \n",
              "4534  4535  0.732729  2640.253967  660.133269     0  176735   5444      0   \n",
              "4535  4536  0.701454  1023.060967  305.606104     3    5728   6636  11601   \n",
              "4536  4537  0.518194  2133.016377  427.986321   272    5484  61807  13334   \n",
              "4537  4538  0.670947  2086.582828  687.028068  1036  183195  20070  11184   \n",
              "4538  4539  0.639607  1744.180808  472.494484   114   52404  59131   1262   \n",
              "\n",
              "         x9    x10  ...       x74       x75       x76        x77       x78  \\\n",
              "0       516    133  ... -0.237962  0.379655  0.006688  35.740493  4.571265   \n",
              "1      3824      1  ... -0.230218  0.346930  0.006940  51.781562  5.629637   \n",
              "2     11672    194  ... -0.157656  0.172056  0.007195  67.380431  6.681474   \n",
              "3      2723      0  ... -0.158760  0.098665  0.006987  42.875692  5.131002   \n",
              "4      2009    876  ... -0.169737  0.203955  0.006926  50.760299  5.710937   \n",
              "...     ...    ...  ...       ...       ...       ...        ...       ...   \n",
              "4534   5702      6  ... -0.181683  0.103781  0.007249  76.256463  7.062796   \n",
              "4535      0  18766  ... -0.204830  0.123630  0.007039  71.742842  6.982504   \n",
              "4536   2843    830  ... -0.233328  0.673156  0.007527  92.656773  8.656649   \n",
              "4537    197  31803  ... -0.219156  0.276579  0.007237  80.891089  7.617215   \n",
              "4538   4588    475  ... -0.144886  0.195463  0.006999  71.212379  6.963582   \n",
              "\n",
              "           x79        x80       x81  TypeMelanoma  TypeMelanoma.1  \n",
              "0     0.007070  68.087617  7.147377             1               0  \n",
              "1     0.006646  29.646711  4.436845             1               0  \n",
              "2     0.007376  78.071641  7.881048             1               0  \n",
              "3     0.007407  84.822635  8.334675             1               0  \n",
              "4     0.007503  87.450958  8.526543             1               0  \n",
              "...        ...        ...       ...           ...             ...  \n",
              "4534  0.006949  71.548846  7.330228             2               1  \n",
              "4535  0.006650  62.584720  6.749176             2               1  \n",
              "4536  0.007021  77.378124  7.783383             2               1  \n",
              "4537  0.007133  78.636153  7.861699             2               1  \n",
              "4538  0.006843  67.446716  7.100560             2               1  \n",
              "\n",
              "[4539 rows x 83 columns]"
            ],
            "text/html": [
              "\n",
              "  <div id=\"df-b9b1ddef-70e2-42d5-b57e-ff797ad7d216\">\n",
              "    <div class=\"colab-df-container\">\n",
              "      <div>\n",
              "<style scoped>\n",
              "    .dataframe tbody tr th:only-of-type {\n",
              "        vertical-align: middle;\n",
              "    }\n",
              "\n",
              "    .dataframe tbody tr th {\n",
              "        vertical-align: top;\n",
              "    }\n",
              "\n",
              "    .dataframe thead th {\n",
              "        text-align: right;\n",
              "    }\n",
              "</style>\n",
              "<table border=\"1\" class=\"dataframe\">\n",
              "  <thead>\n",
              "    <tr style=\"text-align: right;\">\n",
              "      <th></th>\n",
              "      <th>id</th>\n",
              "      <th>x2</th>\n",
              "      <th>x3</th>\n",
              "      <th>x4</th>\n",
              "      <th>x5</th>\n",
              "      <th>x6</th>\n",
              "      <th>x7</th>\n",
              "      <th>x8</th>\n",
              "      <th>x9</th>\n",
              "      <th>x10</th>\n",
              "      <th>...</th>\n",
              "      <th>x74</th>\n",
              "      <th>x75</th>\n",
              "      <th>x76</th>\n",
              "      <th>x77</th>\n",
              "      <th>x78</th>\n",
              "      <th>x79</th>\n",
              "      <th>x80</th>\n",
              "      <th>x81</th>\n",
              "      <th>TypeMelanoma</th>\n",
              "      <th>TypeMelanoma.1</th>\n",
              "    </tr>\n",
              "  </thead>\n",
              "  <tbody>\n",
              "    <tr>\n",
              "      <th>0</th>\n",
              "      <td>1</td>\n",
              "      <td>0.901336</td>\n",
              "      <td>896.724963</td>\n",
              "      <td>440.857183</td>\n",
              "      <td>55</td>\n",
              "      <td>181</td>\n",
              "      <td>12444</td>\n",
              "      <td>23623</td>\n",
              "      <td>516</td>\n",
              "      <td>133</td>\n",
              "      <td>...</td>\n",
              "      <td>-0.237962</td>\n",
              "      <td>0.379655</td>\n",
              "      <td>0.006688</td>\n",
              "      <td>35.740493</td>\n",
              "      <td>4.571265</td>\n",
              "      <td>0.007070</td>\n",
              "      <td>68.087617</td>\n",
              "      <td>7.147377</td>\n",
              "      <td>1</td>\n",
              "      <td>0</td>\n",
              "    </tr>\n",
              "    <tr>\n",
              "      <th>1</th>\n",
              "      <td>2</td>\n",
              "      <td>0.604008</td>\n",
              "      <td>621.320851</td>\n",
              "      <td>176.068179</td>\n",
              "      <td>0</td>\n",
              "      <td>194</td>\n",
              "      <td>8602</td>\n",
              "      <td>1462</td>\n",
              "      <td>3824</td>\n",
              "      <td>1</td>\n",
              "      <td>...</td>\n",
              "      <td>-0.230218</td>\n",
              "      <td>0.346930</td>\n",
              "      <td>0.006940</td>\n",
              "      <td>51.781562</td>\n",
              "      <td>5.629637</td>\n",
              "      <td>0.006646</td>\n",
              "      <td>29.646711</td>\n",
              "      <td>4.436845</td>\n",
              "      <td>1</td>\n",
              "      <td>0</td>\n",
              "    </tr>\n",
              "    <tr>\n",
              "      <th>2</th>\n",
              "      <td>3</td>\n",
              "      <td>0.751895</td>\n",
              "      <td>1089.872150</td>\n",
              "      <td>311.061631</td>\n",
              "      <td>15</td>\n",
              "      <td>846</td>\n",
              "      <td>27261</td>\n",
              "      <td>530</td>\n",
              "      <td>11672</td>\n",
              "      <td>194</td>\n",
              "      <td>...</td>\n",
              "      <td>-0.157656</td>\n",
              "      <td>0.172056</td>\n",
              "      <td>0.007195</td>\n",
              "      <td>67.380431</td>\n",
              "      <td>6.681474</td>\n",
              "      <td>0.007376</td>\n",
              "      <td>78.071641</td>\n",
              "      <td>7.881048</td>\n",
              "      <td>1</td>\n",
              "      <td>0</td>\n",
              "    </tr>\n",
              "    <tr>\n",
              "      <th>3</th>\n",
              "      <td>4</td>\n",
              "      <td>0.632203</td>\n",
              "      <td>1428.097546</td>\n",
              "      <td>344.017297</td>\n",
              "      <td>0</td>\n",
              "      <td>790</td>\n",
              "      <td>47809</td>\n",
              "      <td>915</td>\n",
              "      <td>2723</td>\n",
              "      <td>0</td>\n",
              "      <td>...</td>\n",
              "      <td>-0.158760</td>\n",
              "      <td>0.098665</td>\n",
              "      <td>0.006987</td>\n",
              "      <td>42.875692</td>\n",
              "      <td>5.131002</td>\n",
              "      <td>0.007407</td>\n",
              "      <td>84.822635</td>\n",
              "      <td>8.334675</td>\n",
              "      <td>1</td>\n",
              "      <td>0</td>\n",
              "    </tr>\n",
              "    <tr>\n",
              "      <th>4</th>\n",
              "      <td>5</td>\n",
              "      <td>0.546859</td>\n",
              "      <td>1372.884343</td>\n",
              "      <td>315.822258</td>\n",
              "      <td>181</td>\n",
              "      <td>1471</td>\n",
              "      <td>43247</td>\n",
              "      <td>2698</td>\n",
              "      <td>2009</td>\n",
              "      <td>876</td>\n",
              "      <td>...</td>\n",
              "      <td>-0.169737</td>\n",
              "      <td>0.203955</td>\n",
              "      <td>0.006926</td>\n",
              "      <td>50.760299</td>\n",
              "      <td>5.710937</td>\n",
              "      <td>0.007503</td>\n",
              "      <td>87.450958</td>\n",
              "      <td>8.526543</td>\n",
              "      <td>1</td>\n",
              "      <td>0</td>\n",
              "    </tr>\n",
              "    <tr>\n",
              "      <th>...</th>\n",
              "      <td>...</td>\n",
              "      <td>...</td>\n",
              "      <td>...</td>\n",
              "      <td>...</td>\n",
              "      <td>...</td>\n",
              "      <td>...</td>\n",
              "      <td>...</td>\n",
              "      <td>...</td>\n",
              "      <td>...</td>\n",
              "      <td>...</td>\n",
              "      <td>...</td>\n",
              "      <td>...</td>\n",
              "      <td>...</td>\n",
              "      <td>...</td>\n",
              "      <td>...</td>\n",
              "      <td>...</td>\n",
              "      <td>...</td>\n",
              "      <td>...</td>\n",
              "      <td>...</td>\n",
              "      <td>...</td>\n",
              "      <td>...</td>\n",
              "    </tr>\n",
              "    <tr>\n",
              "      <th>4534</th>\n",
              "      <td>4535</td>\n",
              "      <td>0.732729</td>\n",
              "      <td>2640.253967</td>\n",
              "      <td>660.133269</td>\n",
              "      <td>0</td>\n",
              "      <td>176735</td>\n",
              "      <td>5444</td>\n",
              "      <td>0</td>\n",
              "      <td>5702</td>\n",
              "      <td>6</td>\n",
              "      <td>...</td>\n",
              "      <td>-0.181683</td>\n",
              "      <td>0.103781</td>\n",
              "      <td>0.007249</td>\n",
              "      <td>76.256463</td>\n",
              "      <td>7.062796</td>\n",
              "      <td>0.006949</td>\n",
              "      <td>71.548846</td>\n",
              "      <td>7.330228</td>\n",
              "      <td>2</td>\n",
              "      <td>1</td>\n",
              "    </tr>\n",
              "    <tr>\n",
              "      <th>4535</th>\n",
              "      <td>4536</td>\n",
              "      <td>0.701454</td>\n",
              "      <td>1023.060967</td>\n",
              "      <td>305.606104</td>\n",
              "      <td>3</td>\n",
              "      <td>5728</td>\n",
              "      <td>6636</td>\n",
              "      <td>11601</td>\n",
              "      <td>0</td>\n",
              "      <td>18766</td>\n",
              "      <td>...</td>\n",
              "      <td>-0.204830</td>\n",
              "      <td>0.123630</td>\n",
              "      <td>0.007039</td>\n",
              "      <td>71.742842</td>\n",
              "      <td>6.982504</td>\n",
              "      <td>0.006650</td>\n",
              "      <td>62.584720</td>\n",
              "      <td>6.749176</td>\n",
              "      <td>2</td>\n",
              "      <td>1</td>\n",
              "    </tr>\n",
              "    <tr>\n",
              "      <th>4536</th>\n",
              "      <td>4537</td>\n",
              "      <td>0.518194</td>\n",
              "      <td>2133.016377</td>\n",
              "      <td>427.986321</td>\n",
              "      <td>272</td>\n",
              "      <td>5484</td>\n",
              "      <td>61807</td>\n",
              "      <td>13334</td>\n",
              "      <td>2843</td>\n",
              "      <td>830</td>\n",
              "      <td>...</td>\n",
              "      <td>-0.233328</td>\n",
              "      <td>0.673156</td>\n",
              "      <td>0.007527</td>\n",
              "      <td>92.656773</td>\n",
              "      <td>8.656649</td>\n",
              "      <td>0.007021</td>\n",
              "      <td>77.378124</td>\n",
              "      <td>7.783383</td>\n",
              "      <td>2</td>\n",
              "      <td>1</td>\n",
              "    </tr>\n",
              "    <tr>\n",
              "      <th>4537</th>\n",
              "      <td>4538</td>\n",
              "      <td>0.670947</td>\n",
              "      <td>2086.582828</td>\n",
              "      <td>687.028068</td>\n",
              "      <td>1036</td>\n",
              "      <td>183195</td>\n",
              "      <td>20070</td>\n",
              "      <td>11184</td>\n",
              "      <td>197</td>\n",
              "      <td>31803</td>\n",
              "      <td>...</td>\n",
              "      <td>-0.219156</td>\n",
              "      <td>0.276579</td>\n",
              "      <td>0.007237</td>\n",
              "      <td>80.891089</td>\n",
              "      <td>7.617215</td>\n",
              "      <td>0.007133</td>\n",
              "      <td>78.636153</td>\n",
              "      <td>7.861699</td>\n",
              "      <td>2</td>\n",
              "      <td>1</td>\n",
              "    </tr>\n",
              "    <tr>\n",
              "      <th>4538</th>\n",
              "      <td>4539</td>\n",
              "      <td>0.639607</td>\n",
              "      <td>1744.180808</td>\n",
              "      <td>472.494484</td>\n",
              "      <td>114</td>\n",
              "      <td>52404</td>\n",
              "      <td>59131</td>\n",
              "      <td>1262</td>\n",
              "      <td>4588</td>\n",
              "      <td>475</td>\n",
              "      <td>...</td>\n",
              "      <td>-0.144886</td>\n",
              "      <td>0.195463</td>\n",
              "      <td>0.006999</td>\n",
              "      <td>71.212379</td>\n",
              "      <td>6.963582</td>\n",
              "      <td>0.006843</td>\n",
              "      <td>67.446716</td>\n",
              "      <td>7.100560</td>\n",
              "      <td>2</td>\n",
              "      <td>1</td>\n",
              "    </tr>\n",
              "  </tbody>\n",
              "</table>\n",
              "<p>4539 rows × 83 columns</p>\n",
              "</div>\n",
              "      <button class=\"colab-df-convert\" onclick=\"convertToInteractive('df-b9b1ddef-70e2-42d5-b57e-ff797ad7d216')\"\n",
              "              title=\"Convert this dataframe to an interactive table.\"\n",
              "              style=\"display:none;\">\n",
              "        \n",
              "  <svg xmlns=\"http://www.w3.org/2000/svg\" height=\"24px\"viewBox=\"0 0 24 24\"\n",
              "       width=\"24px\">\n",
              "    <path d=\"M0 0h24v24H0V0z\" fill=\"none\"/>\n",
              "    <path d=\"M18.56 5.44l.94 2.06.94-2.06 2.06-.94-2.06-.94-.94-2.06-.94 2.06-2.06.94zm-11 1L8.5 8.5l.94-2.06 2.06-.94-2.06-.94L8.5 2.5l-.94 2.06-2.06.94zm10 10l.94 2.06.94-2.06 2.06-.94-2.06-.94-.94-2.06-.94 2.06-2.06.94z\"/><path d=\"M17.41 7.96l-1.37-1.37c-.4-.4-.92-.59-1.43-.59-.52 0-1.04.2-1.43.59L10.3 9.45l-7.72 7.72c-.78.78-.78 2.05 0 2.83L4 21.41c.39.39.9.59 1.41.59.51 0 1.02-.2 1.41-.59l7.78-7.78 2.81-2.81c.8-.78.8-2.07 0-2.86zM5.41 20L4 18.59l7.72-7.72 1.47 1.35L5.41 20z\"/>\n",
              "  </svg>\n",
              "      </button>\n",
              "      \n",
              "  <style>\n",
              "    .colab-df-container {\n",
              "      display:flex;\n",
              "      flex-wrap:wrap;\n",
              "      gap: 12px;\n",
              "    }\n",
              "\n",
              "    .colab-df-convert {\n",
              "      background-color: #E8F0FE;\n",
              "      border: none;\n",
              "      border-radius: 50%;\n",
              "      cursor: pointer;\n",
              "      display: none;\n",
              "      fill: #1967D2;\n",
              "      height: 32px;\n",
              "      padding: 0 0 0 0;\n",
              "      width: 32px;\n",
              "    }\n",
              "\n",
              "    .colab-df-convert:hover {\n",
              "      background-color: #E2EBFA;\n",
              "      box-shadow: 0px 1px 2px rgba(60, 64, 67, 0.3), 0px 1px 3px 1px rgba(60, 64, 67, 0.15);\n",
              "      fill: #174EA6;\n",
              "    }\n",
              "\n",
              "    [theme=dark] .colab-df-convert {\n",
              "      background-color: #3B4455;\n",
              "      fill: #D2E3FC;\n",
              "    }\n",
              "\n",
              "    [theme=dark] .colab-df-convert:hover {\n",
              "      background-color: #434B5C;\n",
              "      box-shadow: 0px 1px 3px 1px rgba(0, 0, 0, 0.15);\n",
              "      filter: drop-shadow(0px 1px 2px rgba(0, 0, 0, 0.3));\n",
              "      fill: #FFFFFF;\n",
              "    }\n",
              "  </style>\n",
              "\n",
              "      <script>\n",
              "        const buttonEl =\n",
              "          document.querySelector('#df-b9b1ddef-70e2-42d5-b57e-ff797ad7d216 button.colab-df-convert');\n",
              "        buttonEl.style.display =\n",
              "          google.colab.kernel.accessAllowed ? 'block' : 'none';\n",
              "\n",
              "        async function convertToInteractive(key) {\n",
              "          const element = document.querySelector('#df-b9b1ddef-70e2-42d5-b57e-ff797ad7d216');\n",
              "          const dataTable =\n",
              "            await google.colab.kernel.invokeFunction('convertToInteractive',\n",
              "                                                     [key], {});\n",
              "          if (!dataTable) return;\n",
              "\n",
              "          const docLinkHtml = 'Like what you see? Visit the ' +\n",
              "            '<a target=\"_blank\" href=https://colab.research.google.com/notebooks/data_table.ipynb>data table notebook</a>'\n",
              "            + ' to learn more about interactive tables.';\n",
              "          element.innerHTML = '';\n",
              "          dataTable['output_type'] = 'display_data';\n",
              "          await google.colab.output.renderOutput(dataTable, element);\n",
              "          const docLink = document.createElement('div');\n",
              "          docLink.innerHTML = docLinkHtml;\n",
              "          element.appendChild(docLink);\n",
              "        }\n",
              "      </script>\n",
              "    </div>\n",
              "  </div>\n",
              "  "
            ]
          },
          "metadata": {},
          "execution_count": 5
        }
      ]
    },
    {
      "cell_type": "code",
      "source": [
        "# df.drop(df.tail(2).index,inplace=True) # drop last n rows\n",
        "df = df.drop(['TypeMelanoma'], axis=1)\n",
        "df = df.drop(['id'], axis=1)\n",
        "df.isnull().sum()"
      ],
      "metadata": {
        "colab": {
          "base_uri": "https://localhost:8080/"
        },
        "id": "FKxrIFP4ZCW2",
        "outputId": "315a8ce5-7441-483b-d0d2-6d78f814dfd7"
      },
      "execution_count": null,
      "outputs": [
        {
          "output_type": "execute_result",
          "data": {
            "text/plain": [
              "x2                0\n",
              "x3                0\n",
              "x4                0\n",
              "x5                0\n",
              "x6                0\n",
              "                 ..\n",
              "x78               0\n",
              "x79               0\n",
              "x80               0\n",
              "x81               0\n",
              "TypeMelanoma.1    0\n",
              "Length: 81, dtype: int64"
            ]
          },
          "metadata": {},
          "execution_count": 6
        }
      ]
    },
    {
      "cell_type": "code",
      "source": [
        "import numpy as np\n",
        "from sklearn.model_selection import train_test_split\n",
        "X_train, X_test, y_train, y_test = train_test_split(df.iloc[:,:-1],df.iloc[:,-1] , test_size=0.20)\n",
        "X_test, X_val, y_test, y_val = train_test_split(X_test, y_test , test_size=0.50)\n",
        "X_test.shape"
      ],
      "metadata": {
        "colab": {
          "base_uri": "https://localhost:8080/"
        },
        "id": "CvvUhvtyZFy1",
        "outputId": "718099df-b847-4ade-8730-fbfac8b62d15"
      },
      "execution_count": null,
      "outputs": [
        {
          "output_type": "execute_result",
          "data": {
            "text/plain": [
              "(454, 80)"
            ]
          },
          "metadata": {},
          "execution_count": 7
        }
      ]
    },
    {
      "cell_type": "code",
      "source": [
        "X_train.shape"
      ],
      "metadata": {
        "id": "DTqXdhzun4T9",
        "outputId": "00c84ee2-d33b-4530-da67-a23aa0bcfce8",
        "colab": {
          "base_uri": "https://localhost:8080/"
        }
      },
      "execution_count": null,
      "outputs": [
        {
          "output_type": "execute_result",
          "data": {
            "text/plain": [
              "(3207, 7)"
            ]
          },
          "metadata": {},
          "execution_count": 47
        }
      ]
    },
    {
      "cell_type": "code",
      "source": [
        "from sklearn.utils import shuffle\n",
        "X_train,y_train = shuffle(X_train, y_train)"
      ],
      "metadata": {
        "id": "pGLRaZkkZJe8"
      },
      "execution_count": null,
      "outputs": []
    },
    {
      "cell_type": "code",
      "source": [
        "# import numpy as np\n",
        "# from sklearn.preprocessing import StandardScaler\n",
        "# scaler = StandardScaler()\n",
        "# X_train = scaler.fit_transform(X_train)\n",
        "# # scaler.fit(X_val)\n",
        "# X_test = scaler.fit_transform(X_test)\n",
        "# X_train"
      ],
      "metadata": {
        "id": "ROibQcXvZPaS"
      },
      "execution_count": null,
      "outputs": []
    },
    {
      "cell_type": "code",
      "source": [
        "X_train.shape"
      ],
      "metadata": {
        "colab": {
          "base_uri": "https://localhost:8080/"
        },
        "id": "1n7WBCbijeaS",
        "outputId": "8b3e3056-a17b-4f83-c2dd-e3efafeb12fa"
      },
      "execution_count": null,
      "outputs": [
        {
          "output_type": "execute_result",
          "data": {
            "text/plain": [
              "(3631, 80)"
            ]
          },
          "metadata": {},
          "execution_count": 10
        }
      ]
    },
    {
      "cell_type": "code",
      "source": [
        "import tensorflow as tf"
      ],
      "metadata": {
        "id": "TFKcEEB4m8_k"
      },
      "execution_count": null,
      "outputs": []
    },
    {
      "cell_type": "code",
      "source": [
        "\n",
        "from tensorflow.keras.utils import to_categorical\n",
        "\n",
        "y_train_encoded=to_categorical(y_train)\n",
        "y_test_encoded=to_categorical(y_test)\n",
        "y_val = to_categorical(y_val)"
      ],
      "metadata": {
        "id": "HXhhQHIxikFA"
      },
      "execution_count": null,
      "outputs": []
    },
    {
      "cell_type": "code",
      "source": [
        "print(y_train_encoded.shape)\n",
        "print(y_test_encoded.shape)"
      ],
      "metadata": {
        "colab": {
          "base_uri": "https://localhost:8080/"
        },
        "id": "im7TK1xBj1n6",
        "outputId": "dbce55fa-6e06-4b75-f174-193414cbe5ec"
      },
      "execution_count": null,
      "outputs": [
        {
          "output_type": "stream",
          "name": "stdout",
          "text": [
            "(3631, 2)\n",
            "(454, 2)\n"
          ]
        }
      ]
    },
    {
      "cell_type": "code",
      "source": [
        ""
      ],
      "metadata": {
        "id": "J8QR4se_21cO"
      },
      "execution_count": null,
      "outputs": []
    },
    {
      "cell_type": "code",
      "source": [
        "from tensorflow.keras.models import Sequential\n",
        "from tensorflow.keras.layers import Dense, Conv1D ,BatchNormalization, MaxPooling1D, Flatten\n"
      ],
      "metadata": {
        "id": "e17GqmrMkGLt"
      },
      "execution_count": null,
      "outputs": []
    },
    {
      "cell_type": "code",
      "source": [
        "\n",
        "my_model=Sequential([\n",
        "                    # Dense(40,input_dim=80,activation='relu'),\n",
        "                     Conv1D(filters=50,kernel_size=5,activation='relu',padding='same',input_shape=(80,1)),\n",
        "                     MaxPooling1D(),\n",
        "                     Flatten(),\n",
        "                     Dense(20,activation='relu'),\n",
        "                     BatchNormalization(),\n",
        "                      Dense(10,activation='relu'),\n",
        "                     Dense(2,activation='softmax'),\n",
        "\n",
        "])"
      ],
      "metadata": {
        "id": "WZcuLmOxkjL_"
      },
      "execution_count": null,
      "outputs": []
    },
    {
      "cell_type": "code",
      "source": [
        "adam=tf.keras.optimizers.Adam(lr=0.01)"
      ],
      "metadata": {
        "id": "zPH5rq4kpl10"
      },
      "execution_count": null,
      "outputs": []
    },
    {
      "cell_type": "code",
      "source": [
        "\n",
        "my_model.compile(\n",
        "    optimizer=adam,\n",
        "    loss= 'binary_crossentropy',\n",
        "    metrics=['accuracy'],\n",
        ")\n",
        "my_model.build((None,80,1))\n",
        "my_model.summary()"
      ],
      "metadata": {
        "colab": {
          "base_uri": "https://localhost:8080/"
        },
        "id": "QgoVIWRGpyoE",
        "outputId": "6d8457ba-c6e1-48d3-974a-2e0204eef610"
      },
      "execution_count": null,
      "outputs": [
        {
          "output_type": "stream",
          "name": "stdout",
          "text": [
            "Model: \"sequential\"\n",
            "_________________________________________________________________\n",
            " Layer (type)                Output Shape              Param #   \n",
            "=================================================================\n",
            " conv1d (Conv1D)             (None, 80, 50)            300       \n",
            "                                                                 \n",
            " max_pooling1d (MaxPooling1D  (None, 40, 50)           0         \n",
            " )                                                               \n",
            "                                                                 \n",
            " flatten (Flatten)           (None, 2000)              0         \n",
            "                                                                 \n",
            " dense (Dense)               (None, 20)                40020     \n",
            "                                                                 \n",
            " batch_normalization (BatchN  (None, 20)               80        \n",
            " ormalization)                                                   \n",
            "                                                                 \n",
            " dense_1 (Dense)             (None, 10)                210       \n",
            "                                                                 \n",
            " dense_2 (Dense)             (None, 2)                 22        \n",
            "                                                                 \n",
            "=================================================================\n",
            "Total params: 40,632\n",
            "Trainable params: 40,592\n",
            "Non-trainable params: 40\n",
            "_________________________________________________________________\n"
          ]
        }
      ]
    },
    {
      "cell_type": "code",
      "source": [
        "saved_model=my_model.fit(X_train,y_train_encoded,epochs=50,validation_data = (X_val, y_val))"
      ],
      "metadata": {
        "colab": {
          "base_uri": "https://localhost:8080/"
        },
        "id": "LoYZJiPIvDrg",
        "outputId": "cd0a52a8-6967-401a-b557-9ad07250f11c"
      },
      "execution_count": null,
      "outputs": [
        {
          "output_type": "stream",
          "name": "stdout",
          "text": [
            "Epoch 1/50\n",
            "114/114 [==============================] - 4s 17ms/step - loss: 0.5490 - accuracy: 0.7028 - val_loss: 0.5148 - val_accuracy: 0.7026\n",
            "Epoch 2/50\n",
            "114/114 [==============================] - 1s 12ms/step - loss: 0.5010 - accuracy: 0.7334 - val_loss: 0.4752 - val_accuracy: 0.7093\n",
            "Epoch 3/50\n",
            "114/114 [==============================] - 1s 13ms/step - loss: 0.4302 - accuracy: 0.7808 - val_loss: 0.5347 - val_accuracy: 0.7093\n",
            "Epoch 4/50\n",
            "114/114 [==============================] - 1s 9ms/step - loss: 0.3846 - accuracy: 0.8122 - val_loss: 0.3895 - val_accuracy: 0.7952\n",
            "Epoch 5/50\n",
            "114/114 [==============================] - 1s 7ms/step - loss: 0.3598 - accuracy: 0.8257 - val_loss: 0.3113 - val_accuracy: 0.8326\n",
            "Epoch 6/50\n",
            "114/114 [==============================] - 1s 6ms/step - loss: 0.3272 - accuracy: 0.8372 - val_loss: 0.2700 - val_accuracy: 0.8546\n",
            "Epoch 7/50\n",
            "114/114 [==============================] - 1s 7ms/step - loss: 0.2822 - accuracy: 0.8653 - val_loss: 0.2828 - val_accuracy: 0.8524\n",
            "Epoch 8/50\n",
            "114/114 [==============================] - 1s 7ms/step - loss: 0.2411 - accuracy: 0.8953 - val_loss: 0.1779 - val_accuracy: 0.9141\n",
            "Epoch 9/50\n",
            "114/114 [==============================] - 1s 7ms/step - loss: 0.2380 - accuracy: 0.8852 - val_loss: 0.1991 - val_accuracy: 0.8943\n",
            "Epoch 10/50\n",
            "114/114 [==============================] - 1s 7ms/step - loss: 0.2114 - accuracy: 0.9055 - val_loss: 0.2077 - val_accuracy: 0.8877\n",
            "Epoch 11/50\n",
            "114/114 [==============================] - 1s 7ms/step - loss: 0.2073 - accuracy: 0.9119 - val_loss: 0.1311 - val_accuracy: 0.9537\n",
            "Epoch 12/50\n",
            "114/114 [==============================] - 1s 6ms/step - loss: 0.1506 - accuracy: 0.9389 - val_loss: 0.1277 - val_accuracy: 0.9317\n",
            "Epoch 13/50\n",
            "114/114 [==============================] - 1s 6ms/step - loss: 0.1697 - accuracy: 0.9229 - val_loss: 0.3447 - val_accuracy: 0.8370\n",
            "Epoch 14/50\n",
            "114/114 [==============================] - 1s 6ms/step - loss: 0.2269 - accuracy: 0.9088 - val_loss: 0.7896 - val_accuracy: 0.8480\n",
            "Epoch 15/50\n",
            "114/114 [==============================] - 1s 6ms/step - loss: 0.2253 - accuracy: 0.9075 - val_loss: 0.1674 - val_accuracy: 0.9141\n",
            "Epoch 16/50\n",
            "114/114 [==============================] - 1s 6ms/step - loss: 0.1541 - accuracy: 0.9328 - val_loss: 0.1860 - val_accuracy: 0.9097\n",
            "Epoch 17/50\n",
            "114/114 [==============================] - 1s 7ms/step - loss: 0.1583 - accuracy: 0.9386 - val_loss: 0.0761 - val_accuracy: 0.9670\n",
            "Epoch 18/50\n",
            "114/114 [==============================] - 1s 7ms/step - loss: 0.1262 - accuracy: 0.9502 - val_loss: 0.0944 - val_accuracy: 0.9405\n",
            "Epoch 19/50\n",
            "114/114 [==============================] - 1s 7ms/step - loss: 0.1165 - accuracy: 0.9546 - val_loss: 0.1023 - val_accuracy: 0.9626\n",
            "Epoch 20/50\n",
            "114/114 [==============================] - 1s 6ms/step - loss: 0.1153 - accuracy: 0.9584 - val_loss: 0.0644 - val_accuracy: 0.9758\n",
            "Epoch 21/50\n",
            "114/114 [==============================] - 1s 6ms/step - loss: 0.1177 - accuracy: 0.9537 - val_loss: 0.1877 - val_accuracy: 0.9273\n",
            "Epoch 22/50\n",
            "114/114 [==============================] - 1s 6ms/step - loss: 0.1161 - accuracy: 0.9510 - val_loss: 0.0533 - val_accuracy: 0.9802\n",
            "Epoch 23/50\n",
            "114/114 [==============================] - 1s 6ms/step - loss: 0.1353 - accuracy: 0.9477 - val_loss: 0.1606 - val_accuracy: 0.9229\n",
            "Epoch 24/50\n",
            "114/114 [==============================] - 1s 7ms/step - loss: 0.1413 - accuracy: 0.9444 - val_loss: 0.0805 - val_accuracy: 0.9736\n",
            "Epoch 25/50\n",
            "114/114 [==============================] - 1s 6ms/step - loss: 0.1050 - accuracy: 0.9590 - val_loss: 0.0608 - val_accuracy: 0.9846\n",
            "Epoch 26/50\n",
            "114/114 [==============================] - 1s 6ms/step - loss: 0.1114 - accuracy: 0.9587 - val_loss: 0.0810 - val_accuracy: 0.9736\n",
            "Epoch 27/50\n",
            "114/114 [==============================] - 1s 7ms/step - loss: 0.0838 - accuracy: 0.9694 - val_loss: 0.0919 - val_accuracy: 0.9604\n",
            "Epoch 28/50\n",
            "114/114 [==============================] - 1s 6ms/step - loss: 0.0979 - accuracy: 0.9650 - val_loss: 0.0409 - val_accuracy: 0.9824\n",
            "Epoch 29/50\n",
            "114/114 [==============================] - 1s 6ms/step - loss: 0.0770 - accuracy: 0.9744 - val_loss: 0.0472 - val_accuracy: 0.9802\n",
            "Epoch 30/50\n",
            "114/114 [==============================] - 1s 6ms/step - loss: 0.0845 - accuracy: 0.9725 - val_loss: 0.0562 - val_accuracy: 0.9780\n",
            "Epoch 31/50\n",
            "114/114 [==============================] - 1s 6ms/step - loss: 0.1397 - accuracy: 0.9449 - val_loss: 0.1537 - val_accuracy: 0.9405\n",
            "Epoch 32/50\n",
            "114/114 [==============================] - 1s 7ms/step - loss: 0.0698 - accuracy: 0.9749 - val_loss: 0.0580 - val_accuracy: 0.9758\n",
            "Epoch 33/50\n",
            "114/114 [==============================] - 1s 6ms/step - loss: 0.0619 - accuracy: 0.9769 - val_loss: 0.0487 - val_accuracy: 0.9758\n",
            "Epoch 34/50\n",
            "114/114 [==============================] - 1s 6ms/step - loss: 0.0935 - accuracy: 0.9658 - val_loss: 0.0758 - val_accuracy: 0.9581\n",
            "Epoch 35/50\n",
            "114/114 [==============================] - 1s 7ms/step - loss: 0.0712 - accuracy: 0.9705 - val_loss: 0.0542 - val_accuracy: 0.9780\n",
            "Epoch 36/50\n",
            "114/114 [==============================] - 1s 6ms/step - loss: 0.1069 - accuracy: 0.9609 - val_loss: 0.0515 - val_accuracy: 0.9890\n",
            "Epoch 37/50\n",
            "114/114 [==============================] - 1s 6ms/step - loss: 0.0713 - accuracy: 0.9763 - val_loss: 0.0435 - val_accuracy: 0.9890\n",
            "Epoch 38/50\n",
            "114/114 [==============================] - 1s 7ms/step - loss: 0.0627 - accuracy: 0.9771 - val_loss: 0.0586 - val_accuracy: 0.9780\n",
            "Epoch 39/50\n",
            "114/114 [==============================] - 1s 6ms/step - loss: 0.0680 - accuracy: 0.9769 - val_loss: 0.1495 - val_accuracy: 0.9692\n",
            "Epoch 40/50\n",
            "114/114 [==============================] - 1s 7ms/step - loss: 0.0835 - accuracy: 0.9711 - val_loss: 0.0776 - val_accuracy: 0.9581\n",
            "Epoch 41/50\n",
            "114/114 [==============================] - 1s 6ms/step - loss: 0.0605 - accuracy: 0.9774 - val_loss: 0.0927 - val_accuracy: 0.9692\n",
            "Epoch 42/50\n",
            "114/114 [==============================] - 1s 7ms/step - loss: 0.0672 - accuracy: 0.9788 - val_loss: 0.0686 - val_accuracy: 0.9846\n",
            "Epoch 43/50\n",
            "114/114 [==============================] - 1s 7ms/step - loss: 0.0675 - accuracy: 0.9730 - val_loss: 0.0370 - val_accuracy: 0.9890\n",
            "Epoch 44/50\n",
            "114/114 [==============================] - 1s 7ms/step - loss: 0.0621 - accuracy: 0.9758 - val_loss: 0.1017 - val_accuracy: 0.9537\n",
            "Epoch 45/50\n",
            "114/114 [==============================] - 1s 6ms/step - loss: 0.0969 - accuracy: 0.9670 - val_loss: 0.0384 - val_accuracy: 0.9890\n",
            "Epoch 46/50\n",
            "114/114 [==============================] - 1s 7ms/step - loss: 0.0596 - accuracy: 0.9782 - val_loss: 0.0385 - val_accuracy: 0.9846\n",
            "Epoch 47/50\n",
            "114/114 [==============================] - 1s 7ms/step - loss: 0.0770 - accuracy: 0.9694 - val_loss: 0.0257 - val_accuracy: 0.9890\n",
            "Epoch 48/50\n",
            "114/114 [==============================] - 1s 6ms/step - loss: 0.0598 - accuracy: 0.9788 - val_loss: 0.0347 - val_accuracy: 0.9912\n",
            "Epoch 49/50\n",
            "114/114 [==============================] - 1s 6ms/step - loss: 0.0732 - accuracy: 0.9725 - val_loss: 0.1701 - val_accuracy: 0.9493\n",
            "Epoch 50/50\n",
            "114/114 [==============================] - 1s 6ms/step - loss: 0.1240 - accuracy: 0.9540 - val_loss: 0.0431 - val_accuracy: 0.9890\n"
          ]
        }
      ]
    },
    {
      "cell_type": "code",
      "source": [
        "import pickle as pk\n",
        "filname1= \"CNN81_sklearn.pkl\"\n",
        "pk.dump(saved_model,open(filname1,'wb'))"
      ],
      "metadata": {
        "colab": {
          "base_uri": "https://localhost:8080/"
        },
        "id": "qFPqcefEk4FB",
        "outputId": "abdcea5a-e311-4075-c261-e38ff362ebac"
      },
      "execution_count": null,
      "outputs": [
        {
          "output_type": "stream",
          "name": "stdout",
          "text": [
            "INFO:tensorflow:Assets written to: ram://0fdb7ebc-27b3-4e77-89fc-bbda17b0c031/assets\n"
          ]
        }
      ]
    },
    {
      "cell_type": "code",
      "source": [
        "_,acc=my_model.evaluate(X_test,y_test_encoded)"
      ],
      "metadata": {
        "colab": {
          "base_uri": "https://localhost:8080/"
        },
        "id": "SUMhd-0Mawcx",
        "outputId": "ea9c18d7-2be4-4eca-dad4-fafa3f502352"
      },
      "execution_count": null,
      "outputs": [
        {
          "output_type": "stream",
          "name": "stdout",
          "text": [
            "15/15 [==============================] - 0s 3ms/step - loss: 0.0354 - accuracy: 0.9846\n"
          ]
        }
      ]
    },
    {
      "cell_type": "code",
      "source": [
        "print(acc)"
      ],
      "metadata": {
        "colab": {
          "base_uri": "https://localhost:8080/"
        },
        "id": "ygoT3Z37ay30",
        "outputId": "ed342878-4bda-4cfa-bcaa-e0a0a3b4334e"
      },
      "execution_count": null,
      "outputs": [
        {
          "output_type": "stream",
          "name": "stdout",
          "text": [
            "0.984581470489502\n"
          ]
        }
      ]
    },
    {
      "cell_type": "code",
      "source": [
        "import matplotlib.pyplot as plt\n",
        "\n",
        "loss_train = saved_model.history['loss']\n",
        "loss_val = saved_model.history['val_loss']\n",
        "epochs = range(1,51)\n",
        "plt.plot(epochs, loss_train, 'g', label='Training loss')\n",
        "plt.plot(epochs, loss_val, 'b', label='validation loss')\n",
        "plt.title('Training and Validation loss')\n",
        "plt.xlabel('Epochs')\n",
        "plt.ylabel('Loss')\n",
        "plt.legend()\n",
        "plt.show()"
      ],
      "metadata": {
        "colab": {
          "base_uri": "https://localhost:8080/",
          "height": 295
        },
        "id": "20cyH77pff-u",
        "outputId": "dc23df2d-7f78-49f1-f908-0a6bd3b6a83e"
      },
      "execution_count": null,
      "outputs": [
        {
          "output_type": "display_data",
          "data": {
            "text/plain": [
              "<Figure size 432x288 with 1 Axes>"
            ],
            "image/png": "[encoded data removed]"
          },
          "metadata": {
            "needs_background": "light"
          }
        }
      ]
    },
    {
      "cell_type": "code",
      "source": [
        "y_pred=my_model.predict(X_test)\n",
        "y_pred=np.argmax(y_pred,axis=1)"
      ],
      "metadata": {
        "id": "s19G7h8Nqsu6"
      },
      "execution_count": null,
      "outputs": []
    },
    {
      "cell_type": "code",
      "source": [
        "from sklearn.metrics import confusion_matrix\n",
        "cm = confusion_matrix(y_test, y_pred)\n",
        "cm_df = pd.DataFrame(cm, index = ['BENIGN','MALIGNANT'], columns = ['BENIGN','MALIGNANT'])\n"
      ],
      "metadata": {
        "id": "Pp0JLMJrqt5o"
      },
      "execution_count": null,
      "outputs": []
    },
    {
      "cell_type": "code",
      "source": [
        "import seaborn as sns\n",
        "plt.figure(figsize=(5,4))\n",
        "sns.heatmap(cm_df, annot=True)\n",
        "plt.title('Confusion Matrix')\n",
        "plt.ylabel('Actal Values')\n",
        "plt.xlabel('Predicted Values')\n",
        "plt.show()"
      ],
      "metadata": {
        "colab": {
          "base_uri": "https://localhost:8080/",
          "height": 295
        },
        "id": "kDlu5jjfqy40",
        "outputId": "2f594637-e7dc-41bd-f970-0262a133d1cf"
      },
      "execution_count": null,
      "outputs": [
        {
          "output_type": "display_data",
          "data": {
            "text/plain": [
              "<Figure size 360x288 with 2 Axes>"
            ],
            "image/png": "[encoded data removed]"
          },
          "metadata": {
            "needs_background": "light"
          }
        }
      ]
    },
    {
      "cell_type": "code",
      "source": [
        "from sklearn.metrics import accuracy_score, f1_score, precision_score, recall_score, classification_report, confusion_matrix\n",
        "print(\"Accuracy Score : \"+ str(accuracy_score(y_pred,y_test)))\n",
        "print(\"Precision Score : \"+ str(precision_score(y_pred,y_test,average='weighted')))\n",
        "print(\"Recall Score : \"+ str(recall_score(y_pred,y_test,average='weighted')))\n",
        "print(\"F1 Score : \"+ str(f1_score(y_pred,y_test,average='weighted')))"
      ],
      "metadata": {
        "colab": {
          "base_uri": "https://localhost:8080/"
        },
        "id": "Omnpfbqa3yyR",
        "outputId": "c538068d-3fb0-4952-f91f-4431446f9d70"
      },
      "execution_count": null,
      "outputs": [
        {
          "output_type": "stream",
          "name": "stdout",
          "text": [
            "Accuracy Score : 0.9845814977973568\n",
            "Precision Score : 0.9847108035788609\n",
            "Recall Score : 0.9845814977973568\n",
            "F1 Score : 0.9845057997923662\n"
          ]
        }
      ]
    },
    {
      "cell_type": "markdown",
      "source": [
        "# **CNN**  Abhyudit"
      ],
      "metadata": {
        "id": "rtqUzm0ykD0X"
      }
    },
    {
      "cell_type": "code",
      "source": [
        ""
      ],
      "metadata": {
        "id": "3LM4gwsikDvT"
      },
      "execution_count": null,
      "outputs": []
    },
    {
      "cell_type": "code",
      "source": [
        "import pandas as pd\n",
        "df = pd.read_csv(\"data_frame.csv\")\n"
      ],
      "metadata": {
        "id": "qCtjwEaYk4H0"
      },
      "execution_count": null,
      "outputs": []
    },
    {
      "cell_type": "code",
      "source": [
        "df.drop(df.tail(2).index,inplace=True) # drop last n rows\n",
        "df = df.drop(['Eccentricity'], axis=1)\n",
        "df = df.drop(['Unnamed: 0'], axis=1)\n",
        "df.isnull().sum()\n",
        "# print(df)"
      ],
      "metadata": {
        "colab": {
          "base_uri": "https://localhost:8080/"
        },
        "id": "Xn_LBK3UlHuq",
        "outputId": "49a5036f-720d-4436-8cf0-c8409aaba348"
      },
      "execution_count": null,
      "outputs": [
        {
          "output_type": "execute_result",
          "data": {
            "text/plain": [
              "Assymetry_index        0\n",
              "Border_Irregularity    0\n",
              "Diameter               0\n",
              "Corelation             0\n",
              "Homogeniety            0\n",
              "Energy                 0\n",
              "Contrast               0\n",
              "label                  0\n",
              "dtype: int64"
            ]
          },
          "metadata": {},
          "execution_count": 28
        }
      ]
    },
    {
      "cell_type": "code",
      "source": [
        "import numpy as np\n",
        "from sklearn.model_selection import train_test_split\n",
        "X_train, X_test, y_train, y_test = train_test_split(df.iloc[:,:-1],df.iloc[:,-1] , test_size=0.20)\n",
        "X_test, X_val, y_test, y_val = train_test_split(X_test, y_test , test_size=0.50)\n",
        "X_test.shape"
      ],
      "metadata": {
        "colab": {
          "base_uri": "https://localhost:8080/"
        },
        "id": "BGOd4-SNlYax",
        "outputId": "f7dbfb9b-9d5a-4fbb-d97d-ada900934b2e"
      },
      "execution_count": null,
      "outputs": [
        {
          "output_type": "execute_result",
          "data": {
            "text/plain": [
              "(401, 7)"
            ]
          },
          "metadata": {},
          "execution_count": 29
        }
      ]
    },
    {
      "cell_type": "code",
      "source": [
        "from sklearn.utils import shuffle\n",
        "X_train,y_train = shuffle(X_train, y_train)"
      ],
      "metadata": {
        "id": "o-58YZJzlcI_"
      },
      "execution_count": null,
      "outputs": []
    },
    {
      "cell_type": "code",
      "source": [
        "import numpy as np\n",
        "from sklearn.preprocessing import StandardScaler\n",
        "scaler = StandardScaler()\n",
        "X_train = scaler.fit_transform(X_train)\n",
        "X_test = scaler.fit_transform(X_test)\n",
        "X_val = scaler.fit_transform(X_val)\n",
        "X_train"
      ],
      "metadata": {
        "colab": {
          "base_uri": "https://localhost:8080/"
        },
        "id": "KPb5sILan-K8",
        "outputId": "faff4dbc-1117-4ecc-fa1b-3b0517770842"
      },
      "execution_count": null,
      "outputs": [
        {
          "output_type": "execute_result",
          "data": {
            "text/plain": [
              "array([[ 0.45152186, -0.16645562,  0.75073195, ..., -1.28733266,\n",
              "        -1.07890557,  1.2707476 ],\n",
              "       [ 0.41490472, -0.07400114,  0.55710523, ..., -0.1502634 ,\n",
              "        -0.43550155, -0.36003347],\n",
              "       [ 0.46970448, -0.46606756,  0.85712156, ..., -1.04363296,\n",
              "        -0.56729258,  1.4260286 ],\n",
              "       ...,\n",
              "       [ 0.14042986,  0.42500637, -0.37738095, ..., -0.27356523,\n",
              "        -0.34986402, -0.45451908],\n",
              "       [-0.50357979, -0.06841739, -1.30785885, ...,  0.16636268,\n",
              "         0.67949416, -0.23490313],\n",
              "       [-1.25076851, -0.26656965, -1.78938475, ...,  0.40768357,\n",
              "         1.19610127, -0.09139854]])"
            ]
          },
          "metadata": {},
          "execution_count": 31
        }
      ]
    },
    {
      "cell_type": "code",
      "source": [
        "X_train.shape"
      ],
      "metadata": {
        "colab": {
          "base_uri": "https://localhost:8080/"
        },
        "id": "ciQhPoI4lggn",
        "outputId": "7c745552-1bdd-4dd8-a146-e0a0f17f20b7"
      },
      "execution_count": null,
      "outputs": [
        {
          "output_type": "execute_result",
          "data": {
            "text/plain": [
              "(3207, 7)"
            ]
          },
          "metadata": {},
          "execution_count": 32
        }
      ]
    },
    {
      "cell_type": "code",
      "source": [
        "import tensorflow as tf\n",
        "from tensorflow.keras.utils import to_categorical\n",
        "\n",
        "y_train_encoded=to_categorical(y_train)\n",
        "y_test_encoded=to_categorical(y_test)\n",
        "y_val = to_categorical(y_val)"
      ],
      "metadata": {
        "id": "xKc1g3tXlhGU"
      },
      "execution_count": null,
      "outputs": []
    },
    {
      "cell_type": "code",
      "source": [
        "from tensorflow.keras.models import Sequential\n",
        "from tensorflow.keras.layers import Dense, Conv1D ,BatchNormalization, MaxPooling1D, Flatten\n",
        "my_model=Sequential([\n",
        "                    Dense(7,input_dim=7,activation='relu'),\n",
        "                    #  Conv1D(filters=7,kernel_size=2,activation='relu',padding='same',input_shape=(80,1)),\n",
        "                    #  MaxPooling1D(),\n",
        "                    #  Flatten(),\n",
        "                    #  Dense(20,activation='relu'),\n",
        "                     BatchNormalization(),\n",
        "                      Dense(4,activation='relu'),\n",
        "                     Dense(2,activation='softmax'),\n",
        "\n",
        "])"
      ],
      "metadata": {
        "id": "IoAQGbkqlmRy"
      },
      "execution_count": null,
      "outputs": []
    },
    {
      "cell_type": "code",
      "source": [
        "adam=tf.keras.optimizers.Adam(lr=0.01)\n",
        "my_model.compile(\n",
        "    optimizer=adam,\n",
        "    loss= 'binary_crossentropy',\n",
        "    metrics=['accuracy'],\n",
        ")\n",
        "my_model.build((None,7,1))\n",
        "my_model.summary()"
      ],
      "metadata": {
        "colab": {
          "base_uri": "https://localhost:8080/"
        },
        "id": "8u7CuEdUl1Uy",
        "outputId": "f93a27e3-245b-47bf-a3e4-0b3059e64364"
      },
      "execution_count": null,
      "outputs": [
        {
          "output_type": "stream",
          "name": "stdout",
          "text": [
            "Model: \"sequential_1\"\n",
            "_________________________________________________________________\n",
            " Layer (type)                Output Shape              Param #   \n",
            "=================================================================\n",
            " dense_3 (Dense)             (None, 7)                 56        \n",
            "                                                                 \n",
            " batch_normalization_1 (Batc  (None, 7)                28        \n",
            " hNormalization)                                                 \n",
            "                                                                 \n",
            " dense_4 (Dense)             (None, 4)                 32        \n",
            "                                                                 \n",
            " dense_5 (Dense)             (None, 2)                 10        \n",
            "                                                                 \n",
            "=================================================================\n",
            "Total params: 126\n",
            "Trainable params: 112\n",
            "Non-trainable params: 14\n",
            "_________________________________________________________________\n"
          ]
        }
      ]
    },
    {
      "cell_type": "code",
      "source": [
        "y_test_encoded.shape"
      ],
      "metadata": {
        "colab": {
          "base_uri": "https://localhost:8080/"
        },
        "id": "c5InseSZogBA",
        "outputId": "66411ae8-5926-4bf8-bc84-5c0b4f25e0f5"
      },
      "execution_count": null,
      "outputs": [
        {
          "output_type": "execute_result",
          "data": {
            "text/plain": [
              "(401, 2)"
            ]
          },
          "metadata": {},
          "execution_count": 36
        }
      ]
    },
    {
      "cell_type": "code",
      "source": [
        "y_val"
      ],
      "metadata": {
        "colab": {
          "base_uri": "https://localhost:8080/"
        },
        "id": "oMfquS7koxjS",
        "outputId": "e62c6a80-be75-4803-a891-dc71f76f2e02"
      },
      "execution_count": null,
      "outputs": [
        {
          "output_type": "execute_result",
          "data": {
            "text/plain": [
              "array([[0., 1.],\n",
              "       [0., 1.],\n",
              "       [1., 0.],\n",
              "       [0., 1.],\n",
              "       [0., 1.],\n",
              "       [1., 0.],\n",
              "       [1., 0.],\n",
              "       [1., 0.],\n",
              "       [0., 1.],\n",
              "       [0., 1.],\n",
              "       [1., 0.],\n",
              "       [0., 1.],\n",
              "       [1., 0.],\n",
              "       [0., 1.],\n",
              "       [1., 0.],\n",
              "       [1., 0.],\n",
              "       [1., 0.],\n",
              "       [0., 1.],\n",
              "       [1., 0.],\n",
              "       [0., 1.],\n",
              "       [0., 1.],\n",
              "       [0., 1.],\n",
              "       [1., 0.],\n",
              "       [0., 1.],\n",
              "       [1., 0.],\n",
              "       [0., 1.],\n",
              "       [0., 1.],\n",
              "       [1., 0.],\n",
              "       [0., 1.],\n",
              "       [0., 1.],\n",
              "       [0., 1.],\n",
              "       [1., 0.],\n",
              "       [1., 0.],\n",
              "       [1., 0.],\n",
              "       [1., 0.],\n",
              "       [0., 1.],\n",
              "       [0., 1.],\n",
              "       [0., 1.],\n",
              "       [0., 1.],\n",
              "       [0., 1.],\n",
              "       [0., 1.],\n",
              "       [0., 1.],\n",
              "       [1., 0.],\n",
              "       [1., 0.],\n",
              "       [1., 0.],\n",
              "       [1., 0.],\n",
              "       [0., 1.],\n",
              "       [1., 0.],\n",
              "       [0., 1.],\n",
              "       [1., 0.],\n",
              "       [0., 1.],\n",
              "       [0., 1.],\n",
              "       [1., 0.],\n",
              "       [0., 1.],\n",
              "       [1., 0.],\n",
              "       [0., 1.],\n",
              "       [0., 1.],\n",
              "       [0., 1.],\n",
              "       [1., 0.],\n",
              "       [0., 1.],\n",
              "       [1., 0.],\n",
              "       [0., 1.],\n",
              "       [1., 0.],\n",
              "       [0., 1.],\n",
              "       [0., 1.],\n",
              "       [1., 0.],\n",
              "       [0., 1.],\n",
              "       [0., 1.],\n",
              "       [1., 0.],\n",
              "       [1., 0.],\n",
              "       [0., 1.],\n",
              "       [0., 1.],\n",
              "       [0., 1.],\n",
              "       [0., 1.],\n",
              "       [0., 1.],\n",
              "       [1., 0.],\n",
              "       [0., 1.],\n",
              "       [1., 0.],\n",
              "       [0., 1.],\n",
              "       [1., 0.],\n",
              "       [1., 0.],\n",
              "       [1., 0.],\n",
              "       [1., 0.],\n",
              "       [0., 1.],\n",
              "       [1., 0.],\n",
              "       [1., 0.],\n",
              "       [1., 0.],\n",
              "       [1., 0.],\n",
              "       [0., 1.],\n",
              "       [0., 1.],\n",
              "       [1., 0.],\n",
              "       [0., 1.],\n",
              "       [1., 0.],\n",
              "       [1., 0.],\n",
              "       [0., 1.],\n",
              "       [1., 0.],\n",
              "       [1., 0.],\n",
              "       [0., 1.],\n",
              "       [0., 1.],\n",
              "       [1., 0.],\n",
              "       [0., 1.],\n",
              "       [1., 0.],\n",
              "       [0., 1.],\n",
              "       [1., 0.],\n",
              "       [0., 1.],\n",
              "       [0., 1.],\n",
              "       [1., 0.],\n",
              "       [0., 1.],\n",
              "       [0., 1.],\n",
              "       [0., 1.],\n",
              "       [1., 0.],\n",
              "       [0., 1.],\n",
              "       [0., 1.],\n",
              "       [1., 0.],\n",
              "       [0., 1.],\n",
              "       [1., 0.],\n",
              "       [1., 0.],\n",
              "       [1., 0.],\n",
              "       [1., 0.],\n",
              "       [0., 1.],\n",
              "       [1., 0.],\n",
              "       [0., 1.],\n",
              "       [0., 1.],\n",
              "       [0., 1.],\n",
              "       [0., 1.],\n",
              "       [1., 0.],\n",
              "       [0., 1.],\n",
              "       [0., 1.],\n",
              "       [0., 1.],\n",
              "       [1., 0.],\n",
              "       [0., 1.],\n",
              "       [0., 1.],\n",
              "       [0., 1.],\n",
              "       [1., 0.],\n",
              "       [1., 0.],\n",
              "       [1., 0.],\n",
              "       [1., 0.],\n",
              "       [0., 1.],\n",
              "       [1., 0.],\n",
              "       [0., 1.],\n",
              "       [1., 0.],\n",
              "       [0., 1.],\n",
              "       [0., 1.],\n",
              "       [1., 0.],\n",
              "       [1., 0.],\n",
              "       [1., 0.],\n",
              "       [0., 1.],\n",
              "       [0., 1.],\n",
              "       [1., 0.],\n",
              "       [0., 1.],\n",
              "       [1., 0.],\n",
              "       [0., 1.],\n",
              "       [0., 1.],\n",
              "       [1., 0.],\n",
              "       [0., 1.],\n",
              "       [0., 1.],\n",
              "       [0., 1.],\n",
              "       [1., 0.],\n",
              "       [1., 0.],\n",
              "       [0., 1.],\n",
              "       [0., 1.],\n",
              "       [1., 0.],\n",
              "       [0., 1.],\n",
              "       [0., 1.],\n",
              "       [1., 0.],\n",
              "       [0., 1.],\n",
              "       [1., 0.],\n",
              "       [0., 1.],\n",
              "       [1., 0.],\n",
              "       [0., 1.],\n",
              "       [1., 0.],\n",
              "       [1., 0.],\n",
              "       [0., 1.],\n",
              "       [0., 1.],\n",
              "       [0., 1.],\n",
              "       [1., 0.],\n",
              "       [0., 1.],\n",
              "       [1., 0.],\n",
              "       [0., 1.],\n",
              "       [0., 1.],\n",
              "       [0., 1.],\n",
              "       [1., 0.],\n",
              "       [1., 0.],\n",
              "       [0., 1.],\n",
              "       [0., 1.],\n",
              "       [0., 1.],\n",
              "       [1., 0.],\n",
              "       [1., 0.],\n",
              "       [1., 0.],\n",
              "       [1., 0.],\n",
              "       [0., 1.],\n",
              "       [0., 1.],\n",
              "       [1., 0.],\n",
              "       [0., 1.],\n",
              "       [1., 0.],\n",
              "       [1., 0.],\n",
              "       [1., 0.],\n",
              "       [1., 0.],\n",
              "       [1., 0.],\n",
              "       [0., 1.],\n",
              "       [1., 0.],\n",
              "       [1., 0.],\n",
              "       [1., 0.],\n",
              "       [1., 0.],\n",
              "       [0., 1.],\n",
              "       [0., 1.],\n",
              "       [1., 0.],\n",
              "       [1., 0.],\n",
              "       [1., 0.],\n",
              "       [0., 1.],\n",
              "       [1., 0.],\n",
              "       [1., 0.],\n",
              "       [1., 0.],\n",
              "       [0., 1.],\n",
              "       [1., 0.],\n",
              "       [1., 0.],\n",
              "       [0., 1.],\n",
              "       [0., 1.],\n",
              "       [0., 1.],\n",
              "       [1., 0.],\n",
              "       [1., 0.],\n",
              "       [1., 0.],\n",
              "       [1., 0.],\n",
              "       [1., 0.],\n",
              "       [1., 0.],\n",
              "       [0., 1.],\n",
              "       [1., 0.],\n",
              "       [0., 1.],\n",
              "       [1., 0.],\n",
              "       [0., 1.],\n",
              "       [0., 1.],\n",
              "       [0., 1.],\n",
              "       [1., 0.],\n",
              "       [1., 0.],\n",
              "       [1., 0.],\n",
              "       [1., 0.],\n",
              "       [1., 0.],\n",
              "       [1., 0.],\n",
              "       [0., 1.],\n",
              "       [1., 0.],\n",
              "       [1., 0.],\n",
              "       [0., 1.],\n",
              "       [0., 1.],\n",
              "       [0., 1.],\n",
              "       [0., 1.],\n",
              "       [0., 1.],\n",
              "       [1., 0.],\n",
              "       [1., 0.],\n",
              "       [0., 1.],\n",
              "       [0., 1.],\n",
              "       [1., 0.],\n",
              "       [0., 1.],\n",
              "       [1., 0.],\n",
              "       [1., 0.],\n",
              "       [0., 1.],\n",
              "       [0., 1.],\n",
              "       [1., 0.],\n",
              "       [0., 1.],\n",
              "       [1., 0.],\n",
              "       [1., 0.],\n",
              "       [0., 1.],\n",
              "       [1., 0.],\n",
              "       [1., 0.],\n",
              "       [0., 1.],\n",
              "       [1., 0.],\n",
              "       [0., 1.],\n",
              "       [1., 0.],\n",
              "       [1., 0.],\n",
              "       [1., 0.],\n",
              "       [1., 0.],\n",
              "       [1., 0.],\n",
              "       [1., 0.],\n",
              "       [1., 0.],\n",
              "       [1., 0.],\n",
              "       [0., 1.],\n",
              "       [0., 1.],\n",
              "       [1., 0.],\n",
              "       [1., 0.],\n",
              "       [1., 0.],\n",
              "       [0., 1.],\n",
              "       [1., 0.],\n",
              "       [1., 0.],\n",
              "       [0., 1.],\n",
              "       [1., 0.],\n",
              "       [1., 0.],\n",
              "       [0., 1.],\n",
              "       [0., 1.],\n",
              "       [0., 1.],\n",
              "       [0., 1.],\n",
              "       [1., 0.],\n",
              "       [1., 0.],\n",
              "       [1., 0.],\n",
              "       [1., 0.],\n",
              "       [1., 0.],\n",
              "       [1., 0.],\n",
              "       [1., 0.],\n",
              "       [0., 1.],\n",
              "       [1., 0.],\n",
              "       [0., 1.],\n",
              "       [1., 0.],\n",
              "       [0., 1.],\n",
              "       [0., 1.],\n",
              "       [1., 0.],\n",
              "       [0., 1.],\n",
              "       [1., 0.],\n",
              "       [1., 0.],\n",
              "       [0., 1.],\n",
              "       [0., 1.],\n",
              "       [0., 1.],\n",
              "       [0., 1.],\n",
              "       [1., 0.],\n",
              "       [0., 1.],\n",
              "       [0., 1.],\n",
              "       [0., 1.],\n",
              "       [1., 0.],\n",
              "       [1., 0.],\n",
              "       [0., 1.],\n",
              "       [1., 0.],\n",
              "       [0., 1.],\n",
              "       [1., 0.],\n",
              "       [1., 0.],\n",
              "       [1., 0.],\n",
              "       [0., 1.],\n",
              "       [1., 0.],\n",
              "       [0., 1.],\n",
              "       [1., 0.],\n",
              "       [1., 0.],\n",
              "       [0., 1.],\n",
              "       [0., 1.],\n",
              "       [1., 0.],\n",
              "       [0., 1.],\n",
              "       [0., 1.],\n",
              "       [0., 1.],\n",
              "       [1., 0.],\n",
              "       [0., 1.],\n",
              "       [1., 0.],\n",
              "       [1., 0.],\n",
              "       [1., 0.],\n",
              "       [0., 1.],\n",
              "       [1., 0.],\n",
              "       [1., 0.],\n",
              "       [1., 0.],\n",
              "       [0., 1.],\n",
              "       [0., 1.],\n",
              "       [0., 1.],\n",
              "       [0., 1.],\n",
              "       [0., 1.],\n",
              "       [1., 0.],\n",
              "       [1., 0.],\n",
              "       [0., 1.],\n",
              "       [0., 1.],\n",
              "       [1., 0.],\n",
              "       [1., 0.],\n",
              "       [1., 0.],\n",
              "       [1., 0.],\n",
              "       [1., 0.],\n",
              "       [1., 0.],\n",
              "       [0., 1.],\n",
              "       [0., 1.],\n",
              "       [0., 1.],\n",
              "       [0., 1.],\n",
              "       [1., 0.],\n",
              "       [0., 1.],\n",
              "       [0., 1.],\n",
              "       [1., 0.],\n",
              "       [0., 1.],\n",
              "       [1., 0.],\n",
              "       [0., 1.],\n",
              "       [0., 1.],\n",
              "       [0., 1.],\n",
              "       [0., 1.],\n",
              "       [0., 1.],\n",
              "       [0., 1.],\n",
              "       [0., 1.],\n",
              "       [0., 1.],\n",
              "       [1., 0.],\n",
              "       [0., 1.],\n",
              "       [1., 0.],\n",
              "       [1., 0.],\n",
              "       [1., 0.],\n",
              "       [0., 1.],\n",
              "       [1., 0.],\n",
              "       [1., 0.],\n",
              "       [1., 0.],\n",
              "       [1., 0.],\n",
              "       [0., 1.],\n",
              "       [1., 0.],\n",
              "       [1., 0.],\n",
              "       [1., 0.],\n",
              "       [0., 1.],\n",
              "       [1., 0.],\n",
              "       [0., 1.],\n",
              "       [0., 1.],\n",
              "       [1., 0.],\n",
              "       [0., 1.],\n",
              "       [0., 1.],\n",
              "       [0., 1.],\n",
              "       [1., 0.],\n",
              "       [0., 1.],\n",
              "       [0., 1.],\n",
              "       [0., 1.]], dtype=float32)"
            ]
          },
          "metadata": {},
          "execution_count": 37
        }
      ]
    },
    {
      "cell_type": "code",
      "source": [
        "saved_model=my_model.fit(X_train,y_train_encoded,epochs=50,validation_data = (X_val, y_val))"
      ],
      "metadata": {
        "colab": {
          "base_uri": "https://localhost:8080/"
        },
        "id": "l28uTuEpl68g",
        "outputId": "d4c079fe-421c-4a34-e200-8a836404c070"
      },
      "execution_count": null,
      "outputs": [
        {
          "output_type": "stream",
          "name": "stdout",
          "text": [
            "Epoch 1/50\n",
            "101/101 [==============================] - 1s 4ms/step - loss: 0.5799 - accuracy: 0.7116 - val_loss: 0.5514 - val_accuracy: 0.7257\n",
            "Epoch 2/50\n",
            "101/101 [==============================] - 0s 2ms/step - loss: 0.5448 - accuracy: 0.7328 - val_loss: 0.5315 - val_accuracy: 0.7656\n",
            "Epoch 3/50\n",
            "101/101 [==============================] - 0s 2ms/step - loss: 0.5260 - accuracy: 0.7434 - val_loss: 0.5239 - val_accuracy: 0.7556\n",
            "Epoch 4/50\n",
            "101/101 [==============================] - 0s 2ms/step - loss: 0.5111 - accuracy: 0.7487 - val_loss: 0.5120 - val_accuracy: 0.7581\n",
            "Epoch 5/50\n",
            "101/101 [==============================] - 0s 2ms/step - loss: 0.4897 - accuracy: 0.7611 - val_loss: 0.4847 - val_accuracy: 0.7781\n",
            "Epoch 6/50\n",
            "101/101 [==============================] - 0s 2ms/step - loss: 0.4866 - accuracy: 0.7655 - val_loss: 0.4672 - val_accuracy: 0.7805\n",
            "Epoch 7/50\n",
            "101/101 [==============================] - 0s 2ms/step - loss: 0.4662 - accuracy: 0.7755 - val_loss: 0.5077 - val_accuracy: 0.7706\n",
            "Epoch 8/50\n",
            "101/101 [==============================] - 0s 2ms/step - loss: 0.4578 - accuracy: 0.7892 - val_loss: 0.4511 - val_accuracy: 0.7781\n",
            "Epoch 9/50\n",
            "101/101 [==============================] - 0s 2ms/step - loss: 0.4583 - accuracy: 0.7858 - val_loss: 0.4491 - val_accuracy: 0.7930\n",
            "Epoch 10/50\n",
            "101/101 [==============================] - 0s 2ms/step - loss: 0.4594 - accuracy: 0.7764 - val_loss: 0.4520 - val_accuracy: 0.8080\n",
            "Epoch 11/50\n",
            "101/101 [==============================] - 0s 2ms/step - loss: 0.4575 - accuracy: 0.7789 - val_loss: 0.4285 - val_accuracy: 0.8030\n",
            "Epoch 12/50\n",
            "101/101 [==============================] - 0s 2ms/step - loss: 0.4550 - accuracy: 0.7824 - val_loss: 0.4435 - val_accuracy: 0.7805\n",
            "Epoch 13/50\n",
            "101/101 [==============================] - 0s 2ms/step - loss: 0.4609 - accuracy: 0.7711 - val_loss: 0.4445 - val_accuracy: 0.8005\n",
            "Epoch 14/50\n",
            "101/101 [==============================] - 0s 2ms/step - loss: 0.4520 - accuracy: 0.7895 - val_loss: 0.4486 - val_accuracy: 0.7830\n",
            "Epoch 15/50\n",
            "101/101 [==============================] - 0s 2ms/step - loss: 0.4551 - accuracy: 0.7802 - val_loss: 0.4612 - val_accuracy: 0.8005\n",
            "Epoch 16/50\n",
            "101/101 [==============================] - 0s 2ms/step - loss: 0.4540 - accuracy: 0.7820 - val_loss: 0.4448 - val_accuracy: 0.7905\n",
            "Epoch 17/50\n",
            "101/101 [==============================] - 0s 2ms/step - loss: 0.4531 - accuracy: 0.7873 - val_loss: 0.4295 - val_accuracy: 0.8005\n",
            "Epoch 18/50\n",
            "101/101 [==============================] - 0s 2ms/step - loss: 0.4500 - accuracy: 0.7880 - val_loss: 0.5064 - val_accuracy: 0.7731\n",
            "Epoch 19/50\n",
            "101/101 [==============================] - 0s 2ms/step - loss: 0.4484 - accuracy: 0.7877 - val_loss: 0.4431 - val_accuracy: 0.7905\n",
            "Epoch 20/50\n",
            "101/101 [==============================] - 0s 2ms/step - loss: 0.4449 - accuracy: 0.7917 - val_loss: 0.4328 - val_accuracy: 0.7955\n",
            "Epoch 21/50\n",
            "101/101 [==============================] - 0s 2ms/step - loss: 0.4483 - accuracy: 0.7883 - val_loss: 0.4501 - val_accuracy: 0.8030\n",
            "Epoch 22/50\n",
            "101/101 [==============================] - 0s 3ms/step - loss: 0.4518 - accuracy: 0.7830 - val_loss: 0.4669 - val_accuracy: 0.7830\n",
            "Epoch 23/50\n",
            "101/101 [==============================] - 0s 2ms/step - loss: 0.4558 - accuracy: 0.7824 - val_loss: 0.4612 - val_accuracy: 0.7880\n",
            "Epoch 24/50\n",
            "101/101 [==============================] - 0s 2ms/step - loss: 0.4488 - accuracy: 0.7880 - val_loss: 0.4642 - val_accuracy: 0.7706\n",
            "Epoch 25/50\n",
            "101/101 [==============================] - 0s 4ms/step - loss: 0.4492 - accuracy: 0.7842 - val_loss: 0.4537 - val_accuracy: 0.8005\n",
            "Epoch 26/50\n",
            "101/101 [==============================] - 1s 8ms/step - loss: 0.4461 - accuracy: 0.7905 - val_loss: 0.4480 - val_accuracy: 0.7781\n",
            "Epoch 27/50\n",
            "101/101 [==============================] - 0s 3ms/step - loss: 0.4448 - accuracy: 0.7895 - val_loss: 0.4823 - val_accuracy: 0.8055\n",
            "Epoch 28/50\n",
            "101/101 [==============================] - 0s 4ms/step - loss: 0.4532 - accuracy: 0.7839 - val_loss: 0.4372 - val_accuracy: 0.8030\n",
            "Epoch 29/50\n",
            "101/101 [==============================] - 1s 8ms/step - loss: 0.4380 - accuracy: 0.7936 - val_loss: 0.4940 - val_accuracy: 0.7731\n",
            "Epoch 30/50\n",
            "101/101 [==============================] - 0s 3ms/step - loss: 0.4453 - accuracy: 0.7880 - val_loss: 0.4460 - val_accuracy: 0.8055\n",
            "Epoch 31/50\n",
            "101/101 [==============================] - 0s 3ms/step - loss: 0.4465 - accuracy: 0.7886 - val_loss: 0.4408 - val_accuracy: 0.7855\n",
            "Epoch 32/50\n",
            "101/101 [==============================] - 1s 9ms/step - loss: 0.4482 - accuracy: 0.7861 - val_loss: 0.4383 - val_accuracy: 0.7880\n",
            "Epoch 33/50\n",
            "101/101 [==============================] - 0s 3ms/step - loss: 0.4417 - accuracy: 0.7861 - val_loss: 0.4384 - val_accuracy: 0.8130\n",
            "Epoch 34/50\n",
            "101/101 [==============================] - 0s 2ms/step - loss: 0.4437 - accuracy: 0.7895 - val_loss: 0.4622 - val_accuracy: 0.7781\n",
            "Epoch 35/50\n",
            "101/101 [==============================] - 0s 2ms/step - loss: 0.4446 - accuracy: 0.7923 - val_loss: 0.4317 - val_accuracy: 0.8005\n",
            "Epoch 36/50\n",
            "101/101 [==============================] - 0s 2ms/step - loss: 0.4483 - accuracy: 0.7814 - val_loss: 0.4480 - val_accuracy: 0.8080\n",
            "Epoch 37/50\n",
            "101/101 [==============================] - 0s 2ms/step - loss: 0.4503 - accuracy: 0.7880 - val_loss: 0.4639 - val_accuracy: 0.7930\n",
            "Epoch 38/50\n",
            "101/101 [==============================] - 0s 2ms/step - loss: 0.4376 - accuracy: 0.7954 - val_loss: 0.4499 - val_accuracy: 0.7955\n",
            "Epoch 39/50\n",
            "101/101 [==============================] - 0s 2ms/step - loss: 0.4510 - accuracy: 0.7839 - val_loss: 0.4319 - val_accuracy: 0.7855\n",
            "Epoch 40/50\n",
            "101/101 [==============================] - 0s 2ms/step - loss: 0.4457 - accuracy: 0.7898 - val_loss: 0.4217 - val_accuracy: 0.7830\n",
            "Epoch 41/50\n",
            "101/101 [==============================] - 0s 2ms/step - loss: 0.4388 - accuracy: 0.7939 - val_loss: 0.4658 - val_accuracy: 0.7781\n",
            "Epoch 42/50\n",
            "101/101 [==============================] - 0s 2ms/step - loss: 0.4436 - accuracy: 0.7917 - val_loss: 0.4535 - val_accuracy: 0.7855\n",
            "Epoch 43/50\n",
            "101/101 [==============================] - 0s 2ms/step - loss: 0.4400 - accuracy: 0.7954 - val_loss: 0.4405 - val_accuracy: 0.8105\n",
            "Epoch 44/50\n",
            "101/101 [==============================] - 0s 2ms/step - loss: 0.4446 - accuracy: 0.7889 - val_loss: 0.4160 - val_accuracy: 0.8005\n",
            "Epoch 45/50\n",
            "101/101 [==============================] - 0s 2ms/step - loss: 0.4465 - accuracy: 0.7886 - val_loss: 0.4643 - val_accuracy: 0.7880\n",
            "Epoch 46/50\n",
            "101/101 [==============================] - 0s 2ms/step - loss: 0.4401 - accuracy: 0.7908 - val_loss: 0.4459 - val_accuracy: 0.7955\n",
            "Epoch 47/50\n",
            "101/101 [==============================] - 0s 3ms/step - loss: 0.4382 - accuracy: 0.7905 - val_loss: 0.4465 - val_accuracy: 0.7756\n",
            "Epoch 48/50\n",
            "101/101 [==============================] - 0s 2ms/step - loss: 0.4392 - accuracy: 0.7892 - val_loss: 0.4770 - val_accuracy: 0.7930\n",
            "Epoch 49/50\n",
            "101/101 [==============================] - 0s 2ms/step - loss: 0.4421 - accuracy: 0.7895 - val_loss: 0.4454 - val_accuracy: 0.7706\n",
            "Epoch 50/50\n",
            "101/101 [==============================] - 0s 2ms/step - loss: 0.4428 - accuracy: 0.7945 - val_loss: 0.4244 - val_accuracy: 0.7905\n"
          ]
        }
      ]
    },
    {
      "cell_type": "code",
      "source": [
        "import pickle as pk\n",
        "filname1= \"CNN7_sklearn.pkl\"\n",
        "pk.dump(saved_model,open(filname1,'wb'))"
      ],
      "metadata": {
        "colab": {
          "base_uri": "https://localhost:8080/"
        },
        "id": "RySMP5F9lAhj",
        "outputId": "e53837bb-d499-4e67-9ada-58c9a35b9811"
      },
      "execution_count": null,
      "outputs": [
        {
          "output_type": "stream",
          "name": "stdout",
          "text": [
            "INFO:tensorflow:Assets written to: ram://caa6c7c3-d743-4a83-9c70-a1a34a304676/assets\n"
          ]
        }
      ]
    },
    {
      "cell_type": "code",
      "source": [
        "_,acc=my_model.evaluate(X_test,y_test_encoded)"
      ],
      "metadata": {
        "colab": {
          "base_uri": "https://localhost:8080/"
        },
        "id": "NiqzoWPZl7Zw",
        "outputId": "7e421ad4-935c-4530-b4e8-e18b316d3d3f"
      },
      "execution_count": null,
      "outputs": [
        {
          "output_type": "stream",
          "name": "stdout",
          "text": [
            "13/13 [==============================] - 0s 2ms/step - loss: 0.5007 - accuracy: 0.7581\n"
          ]
        }
      ]
    },
    {
      "cell_type": "code",
      "source": [
        "print(acc)"
      ],
      "metadata": {
        "colab": {
          "base_uri": "https://localhost:8080/"
        },
        "id": "Bov0TCqdl-Ph",
        "outputId": "b768ac49-0964-4de5-d98e-043bd8356334"
      },
      "execution_count": null,
      "outputs": [
        {
          "output_type": "stream",
          "name": "stdout",
          "text": [
            "0.7581047415733337\n"
          ]
        }
      ]
    },
    {
      "cell_type": "code",
      "source": [
        "import matplotlib.pyplot as plt\n",
        "\n",
        "loss_train = saved_model.history['loss']\n",
        "loss_val = saved_model.history['val_loss']\n",
        "epochs = range(1,51)\n",
        "plt.plot(epochs, loss_train, 'g', label='Training loss')\n",
        "plt.plot(epochs, loss_val, 'b', label='validation loss')\n",
        "plt.title('Training and Validation loss')\n",
        "plt.xlabel('Epochs')\n",
        "plt.ylabel('Loss')\n",
        "plt.legend()\n",
        "plt.show()"
      ],
      "metadata": {
        "colab": {
          "base_uri": "https://localhost:8080/",
          "height": 295
        },
        "id": "1Z8M2dE5mAhG",
        "outputId": "aed7cc22-db6a-4c25-920a-d0803edfa6e9"
      },
      "execution_count": null,
      "outputs": [
        {
          "output_type": "display_data",
          "data": {
            "text/plain": [
              "<Figure size 432x288 with 1 Axes>"
            ],
            "image/png": "[encoded data removed]"
          },
          "metadata": {
            "needs_background": "light"
          }
        }
      ]
    },
    {
      "cell_type": "code",
      "source": [
        "y_pred=my_model.predict(X_test)\n",
        "y_pred=np.argmax(y_pred,axis=1)"
      ],
      "metadata": {
        "id": "SsQdFToRqgHK"
      },
      "execution_count": null,
      "outputs": []
    },
    {
      "cell_type": "code",
      "source": [
        "from sklearn.metrics import confusion_matrix\n",
        "cm = confusion_matrix(y_test, y_pred)\n",
        "cm_df = pd.DataFrame(cm, index = ['BENIGN','MALIGNANT'], columns = ['BENIGN','MALIGNANT'])"
      ],
      "metadata": {
        "id": "drJqCqFTqZP6"
      },
      "execution_count": null,
      "outputs": []
    },
    {
      "cell_type": "code",
      "source": [
        "import seaborn as sns\n",
        "plt.figure(figsize=(5,4))\n",
        "sns.heatmap(cm_df, annot=True)\n",
        "plt.title('Confusion Matrix')\n",
        "plt.ylabel('Actal Values')\n",
        "plt.xlabel('Predicted Values')\n",
        "plt.show()"
      ],
      "metadata": {
        "colab": {
          "base_uri": "https://localhost:8080/",
          "height": 295
        },
        "id": "XnKoAShRqZsa",
        "outputId": "0dcb181e-75ae-494c-fb80-fa81f90c5f17"
      },
      "execution_count": null,
      "outputs": [
        {
          "output_type": "display_data",
          "data": {
            "text/plain": [
              "<Figure size 360x288 with 2 Axes>"
            ],
            "image/png": "[encoded data removed]"
          },
          "metadata": {
            "needs_background": "light"
          }
        }
      ]
    },
    {
      "cell_type": "code",
      "source": [
        "from sklearn.metrics import accuracy_score, f1_score, precision_score, recall_score, classification_report, confusion_matrix\n",
        "print(\"Accuracy Score : \"+ str(accuracy_score(y_pred,y_test)))\n",
        "print(\"Precision Score : \"+ str(precision_score(y_pred,y_test,average='weighted')))\n",
        "print(\"Recall Score : \"+ str(recall_score(y_pred,y_test,average='weighted')))\n",
        "print(\"F1 Score : \"+ str(f1_score(y_pred,y_test,average='weighted')))"
      ],
      "metadata": {
        "colab": {
          "base_uri": "https://localhost:8080/"
        },
        "id": "y6z8gtqj381N",
        "outputId": "6a31588a-5349-4306-8997-9451559fa5ba"
      },
      "execution_count": null,
      "outputs": [
        {
          "output_type": "stream",
          "name": "stdout",
          "text": [
            "Accuracy Score : 0.7581047381546134\n",
            "Precision Score : 0.757862375703133\n",
            "Recall Score : 0.7581047381546134\n",
            "F1 Score : 0.7579409521398848\n"
          ]
        }
      ]
    }
  ],
  "metadata": {
    "colab": {
      "collapsed_sections": [
        "Jtj2Eo5phh-f"
      ],
      "name": "ml_project_vik.ipynb",
      "provenance": []
    },
    "kernelspec": {
      "display_name": "Python 3",
      "name": "python3"
    },
    "language_info": {
      "name": "python"
    }
  },
  "nbformat": 4,
  "nbformat_minor": 0
}